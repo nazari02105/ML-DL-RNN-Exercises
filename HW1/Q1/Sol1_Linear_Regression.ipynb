{
  "cells": [
    {
      "cell_type": "markdown",
      "id": "16adc323",
      "metadata": {
        "id": "16adc323"
      },
      "source": [
        "<br><font face=\"Times New Roman\" size=5><div dir=ltr align=center>\n",
        "<font color=blue size=8>\n",
        "    Introduction to Machine Learning <br>\n",
        "<font color=red size=5>\n",
        "    Sharif University of Technology - Computer Engineering Department <br>\n",
        "    Fall 2022<br> <br>\n",
        "<font color=black size=6>\n",
        "    Homework 2: Practical - Linear Regression\n",
        "    </div>\n",
        "<br><br>\n",
        "<font size=4>\n",
        "   **Name**: Ali Nazari<br>\n",
        "   **Student ID**: 99102401<br> <br>"
      ]
    },
    {
      "cell_type": "markdown",
      "id": "2585264a",
      "metadata": {
        "id": "2585264a"
      },
      "source": [
        "<font face=\"Times New Roman\" size=4><div dir=ltr>\n",
        "# Problem 1: Linear Regression Model (40 + 30 optional points)\n",
        "According to <a href=\"https://github.com/asharifiz/Introduction_to_Machine_Learning/blob/main/Jupyter_Notebooks/Chapter_02_Classical_Models/Linear%20regression.ipynb\"><font face=\"Roboto\">Linear Regression Notebook</font></a>, train a linear regression model on an arbitrary dataset. Explain your chosen dataset and split your data into train and test sets, then predict values for the test set using your trained model. Try to find the best hyperparameters for your model. (Using Lasso Regression, Ridge Regression or Elastic Net and comparing them will have extra optional points)\n",
        "<br> Explain each step of your workflow."
      ]
    },
    {
      "cell_type": "code",
      "execution_count": 190,
      "id": "387d3a07",
      "metadata": {
        "id": "387d3a07"
      },
      "outputs": [],
      "source": [
        "# Importing the libraries\n",
        "import numpy as np\n",
        "import matplotlib.pyplot as plt\n",
        "import pandas as pd"
      ]
    },
    {
      "cell_type": "markdown",
      "source": [
        "در این بخش دیتاست را وارد می کنیم و دیتاست هم بسیار ساده است به این شکل که اطلاعات چند استارتاپ را دارد و به عنوان خروجی سود حاصل از اون استارتاپ را باید به دست آوریم و در نتیجه ۴ تا فیچر داریم و یک خروجی هم داریم که کد زیر ۵ نمونه اول از آن را می بینیم."
      ],
      "metadata": {
        "id": "k7YG5nWohZvu"
      },
      "id": "k7YG5nWohZvu"
    },
    {
      "cell_type": "code",
      "source": [
        "# Importing the dataset\n",
        "dataset = pd.read_csv('50_Startups.csv')\n",
        "X = dataset.iloc[:, :-1].values\n",
        "y = dataset.iloc[:, 4].values\n",
        "dataset.head()"
      ],
      "metadata": {
        "colab": {
          "base_uri": "https://localhost:8080/",
          "height": 206
        },
        "id": "qXQ8VcAMd2zz",
        "outputId": "49dfe084-20c2-4213-f51b-8b8e7b78add7"
      },
      "id": "qXQ8VcAMd2zz",
      "execution_count": 191,
      "outputs": [
        {
          "output_type": "execute_result",
          "data": {
            "text/plain": [
              "   R&D Spend  Administration  Marketing Spend       State     Profit\n",
              "0  165349.20       136897.80        471784.10    New York  192261.83\n",
              "1  162597.70       151377.59        443898.53  California  191792.06\n",
              "2  153441.51       101145.55        407934.54     Florida  191050.39\n",
              "3  144372.41       118671.85        383199.62    New York  182901.99\n",
              "4  142107.34        91391.77        366168.42     Florida  166187.94"
            ],
            "text/html": [
              "\n",
              "  <div id=\"df-dc535866-2b39-4013-bde6-13d753ef10db\">\n",
              "    <div class=\"colab-df-container\">\n",
              "      <div>\n",
              "<style scoped>\n",
              "    .dataframe tbody tr th:only-of-type {\n",
              "        vertical-align: middle;\n",
              "    }\n",
              "\n",
              "    .dataframe tbody tr th {\n",
              "        vertical-align: top;\n",
              "    }\n",
              "\n",
              "    .dataframe thead th {\n",
              "        text-align: right;\n",
              "    }\n",
              "</style>\n",
              "<table border=\"1\" class=\"dataframe\">\n",
              "  <thead>\n",
              "    <tr style=\"text-align: right;\">\n",
              "      <th></th>\n",
              "      <th>R&amp;D Spend</th>\n",
              "      <th>Administration</th>\n",
              "      <th>Marketing Spend</th>\n",
              "      <th>State</th>\n",
              "      <th>Profit</th>\n",
              "    </tr>\n",
              "  </thead>\n",
              "  <tbody>\n",
              "    <tr>\n",
              "      <th>0</th>\n",
              "      <td>165349.20</td>\n",
              "      <td>136897.80</td>\n",
              "      <td>471784.10</td>\n",
              "      <td>New York</td>\n",
              "      <td>192261.83</td>\n",
              "    </tr>\n",
              "    <tr>\n",
              "      <th>1</th>\n",
              "      <td>162597.70</td>\n",
              "      <td>151377.59</td>\n",
              "      <td>443898.53</td>\n",
              "      <td>California</td>\n",
              "      <td>191792.06</td>\n",
              "    </tr>\n",
              "    <tr>\n",
              "      <th>2</th>\n",
              "      <td>153441.51</td>\n",
              "      <td>101145.55</td>\n",
              "      <td>407934.54</td>\n",
              "      <td>Florida</td>\n",
              "      <td>191050.39</td>\n",
              "    </tr>\n",
              "    <tr>\n",
              "      <th>3</th>\n",
              "      <td>144372.41</td>\n",
              "      <td>118671.85</td>\n",
              "      <td>383199.62</td>\n",
              "      <td>New York</td>\n",
              "      <td>182901.99</td>\n",
              "    </tr>\n",
              "    <tr>\n",
              "      <th>4</th>\n",
              "      <td>142107.34</td>\n",
              "      <td>91391.77</td>\n",
              "      <td>366168.42</td>\n",
              "      <td>Florida</td>\n",
              "      <td>166187.94</td>\n",
              "    </tr>\n",
              "  </tbody>\n",
              "</table>\n",
              "</div>\n",
              "      <button class=\"colab-df-convert\" onclick=\"convertToInteractive('df-dc535866-2b39-4013-bde6-13d753ef10db')\"\n",
              "              title=\"Convert this dataframe to an interactive table.\"\n",
              "              style=\"display:none;\">\n",
              "        \n",
              "  <svg xmlns=\"http://www.w3.org/2000/svg\" height=\"24px\"viewBox=\"0 0 24 24\"\n",
              "       width=\"24px\">\n",
              "    <path d=\"M0 0h24v24H0V0z\" fill=\"none\"/>\n",
              "    <path d=\"M18.56 5.44l.94 2.06.94-2.06 2.06-.94-2.06-.94-.94-2.06-.94 2.06-2.06.94zm-11 1L8.5 8.5l.94-2.06 2.06-.94-2.06-.94L8.5 2.5l-.94 2.06-2.06.94zm10 10l.94 2.06.94-2.06 2.06-.94-2.06-.94-.94-2.06-.94 2.06-2.06.94z\"/><path d=\"M17.41 7.96l-1.37-1.37c-.4-.4-.92-.59-1.43-.59-.52 0-1.04.2-1.43.59L10.3 9.45l-7.72 7.72c-.78.78-.78 2.05 0 2.83L4 21.41c.39.39.9.59 1.41.59.51 0 1.02-.2 1.41-.59l7.78-7.78 2.81-2.81c.8-.78.8-2.07 0-2.86zM5.41 20L4 18.59l7.72-7.72 1.47 1.35L5.41 20z\"/>\n",
              "  </svg>\n",
              "      </button>\n",
              "      \n",
              "  <style>\n",
              "    .colab-df-container {\n",
              "      display:flex;\n",
              "      flex-wrap:wrap;\n",
              "      gap: 12px;\n",
              "    }\n",
              "\n",
              "    .colab-df-convert {\n",
              "      background-color: #E8F0FE;\n",
              "      border: none;\n",
              "      border-radius: 50%;\n",
              "      cursor: pointer;\n",
              "      display: none;\n",
              "      fill: #1967D2;\n",
              "      height: 32px;\n",
              "      padding: 0 0 0 0;\n",
              "      width: 32px;\n",
              "    }\n",
              "\n",
              "    .colab-df-convert:hover {\n",
              "      background-color: #E2EBFA;\n",
              "      box-shadow: 0px 1px 2px rgba(60, 64, 67, 0.3), 0px 1px 3px 1px rgba(60, 64, 67, 0.15);\n",
              "      fill: #174EA6;\n",
              "    }\n",
              "\n",
              "    [theme=dark] .colab-df-convert {\n",
              "      background-color: #3B4455;\n",
              "      fill: #D2E3FC;\n",
              "    }\n",
              "\n",
              "    [theme=dark] .colab-df-convert:hover {\n",
              "      background-color: #434B5C;\n",
              "      box-shadow: 0px 1px 3px 1px rgba(0, 0, 0, 0.15);\n",
              "      filter: drop-shadow(0px 1px 2px rgba(0, 0, 0, 0.3));\n",
              "      fill: #FFFFFF;\n",
              "    }\n",
              "  </style>\n",
              "\n",
              "      <script>\n",
              "        const buttonEl =\n",
              "          document.querySelector('#df-dc535866-2b39-4013-bde6-13d753ef10db button.colab-df-convert');\n",
              "        buttonEl.style.display =\n",
              "          google.colab.kernel.accessAllowed ? 'block' : 'none';\n",
              "\n",
              "        async function convertToInteractive(key) {\n",
              "          const element = document.querySelector('#df-dc535866-2b39-4013-bde6-13d753ef10db');\n",
              "          const dataTable =\n",
              "            await google.colab.kernel.invokeFunction('convertToInteractive',\n",
              "                                                     [key], {});\n",
              "          if (!dataTable) return;\n",
              "\n",
              "          const docLinkHtml = 'Like what you see? Visit the ' +\n",
              "            '<a target=\"_blank\" href=https://colab.research.google.com/notebooks/data_table.ipynb>data table notebook</a>'\n",
              "            + ' to learn more about interactive tables.';\n",
              "          element.innerHTML = '';\n",
              "          dataTable['output_type'] = 'display_data';\n",
              "          await google.colab.output.renderOutput(dataTable, element);\n",
              "          const docLink = document.createElement('div');\n",
              "          docLink.innerHTML = docLinkHtml;\n",
              "          element.appendChild(docLink);\n",
              "        }\n",
              "      </script>\n",
              "    </div>\n",
              "  </div>\n",
              "  "
            ]
          },
          "metadata": {},
          "execution_count": 191
        }
      ]
    },
    {
      "cell_type": "markdown",
      "source": [
        "در این بخش هم چون که یکی از ستون ها عدد نیست و مکان آن استارتاپ است، میایم \n",
        "<br>\n",
        "label encoder\n",
        "<br>\n",
        "می زنیم تا تبدیل به عدد شوند و چون که در این حالت عددی بین ۰ تا ایکس می دهد، ممکن است مدل اولویت دهد و در نتیجه در ادامه کار از\n",
        "<br>\n",
        "onehot encoder\n",
        "<br>\n",
        "استفاده می کنیم تا ستون های مختلف با صفر و یک بسازد و دیگر مشکل قبل به وجود نیاید."
      ],
      "metadata": {
        "id": "KCcjAlDmhwhO"
      },
      "id": "KCcjAlDmhwhO"
    },
    {
      "cell_type": "code",
      "source": [
        "# Encoding the Independent Variable\n",
        "from sklearn.preprocessing import LabelEncoder, OneHotEncoder\n",
        "labelencoder_X = LabelEncoder()\n",
        "X[:, 3] = labelencoder_X.fit_transform(X[:, 3])\n",
        "onehotencoder = OneHotEncoder()\n",
        "a = onehotencoder.fit_transform(X[:,[3]]).toarray()"
      ],
      "metadata": {
        "id": "mU76jZI4d-q0"
      },
      "id": "mU76jZI4d-q0",
      "execution_count": 192,
      "outputs": []
    },
    {
      "cell_type": "markdown",
      "source": [
        "همه ستون های قبلی که از\n",
        "<br>\n",
        "onehot encoder\n",
        "<br>\n",
        "به دست آمدند نیاز نیستند و در نتیجه یکی از ستون هایش را حذف می کنیم بدون اینکه مشکلی پیش بیاید."
      ],
      "metadata": {
        "id": "mhaYIRyAiLSk"
      },
      "id": "mhaYIRyAiLSk"
    },
    {
      "cell_type": "code",
      "source": [
        "#Avoiding the dummy variable Trap\n",
        "a=a[:,1:]"
      ],
      "metadata": {
        "id": "GkoqniQReBT5"
      },
      "id": "GkoqniQReBT5",
      "execution_count": 193,
      "outputs": []
    },
    {
      "cell_type": "markdown",
      "source": [
        "سپس اون بخش های انکد شده را وارد دیتاست می کنیم."
      ],
      "metadata": {
        "id": "xUqxMTBriU0G"
      },
      "id": "xUqxMTBriU0G"
    },
    {
      "cell_type": "code",
      "source": [
        "#Adding encoded data into X\n",
        "X = X[:,:3]\n",
        "X=np.concatenate((X, a),axis=1)"
      ],
      "metadata": {
        "id": "up97gI0IeRiK"
      },
      "id": "up97gI0IeRiK",
      "execution_count": 194,
      "outputs": []
    },
    {
      "cell_type": "markdown",
      "source": [
        "در این بخش هم که دیتا را به ترین و تست تقسیم می کنیم."
      ],
      "metadata": {
        "id": "9H3joVfWiap_"
      },
      "id": "9H3joVfWiap_"
    },
    {
      "cell_type": "code",
      "source": [
        "# Splitting the dataset into the Training set and Test set\n",
        "from sklearn.model_selection import train_test_split\n",
        "X_train, X_test, y_train, y_test = train_test_split(X, y, test_size = 0.2, random_state = 0)"
      ],
      "metadata": {
        "id": "WEtFS3ebeT1O"
      },
      "id": "WEtFS3ebeT1O",
      "execution_count": 195,
      "outputs": []
    },
    {
      "cell_type": "markdown",
      "source": [
        "مدل را می سازیم و به راحتی فیت می کنیم دیتا را"
      ],
      "metadata": {
        "id": "cZPm-S9NieqP"
      },
      "id": "cZPm-S9NieqP"
    },
    {
      "cell_type": "code",
      "source": [
        "#making Linear Model\n",
        "from sklearn.linear_model import LinearRegression\n",
        "regressor=LinearRegression()\n",
        "print(regressor.get_params())\n",
        "regressor.fit(X_train,y_train)"
      ],
      "metadata": {
        "colab": {
          "base_uri": "https://localhost:8080/"
        },
        "id": "pjvKca0ZeW_n",
        "outputId": "903c0379-dbe5-4a71-c407-2d970807b882"
      },
      "id": "pjvKca0ZeW_n",
      "execution_count": 196,
      "outputs": [
        {
          "output_type": "stream",
          "name": "stdout",
          "text": [
            "{'copy_X': True, 'fit_intercept': True, 'n_jobs': None, 'normalize': 'deprecated', 'positive': False}\n"
          ]
        },
        {
          "output_type": "execute_result",
          "data": {
            "text/plain": [
              "LinearRegression()"
            ]
          },
          "metadata": {},
          "execution_count": 196
        }
      ]
    },
    {
      "cell_type": "markdown",
      "source": [
        "سپس کار پیشبینی را انجام می دهیم. در این بخش دقت کنید که مقدار \n",
        "<br>\n",
        "MSE\n",
        "<br>\n",
        "به این دلیل زیاد شد چون که خود عدد خروجی مقدار بزرگی دارد مثلا ۱۰۰۰۰۰ و در حالتی که مدل به خوبی ۹۹۰۰۰ هم پیش بینی کند باز ۱۰۰۰ تا اختلاف است که در توان ۲ رسیدن مقدار بزرگی می شود و برای همین مقدارش زیاد شده و در نتیجه من هم خود مقدار های واقعی را چاپ کردم و هم اختلاف از مقدار پیشبینی شده تا ببینیم که مدل به نسبت خوب کار کرده است."
      ],
      "metadata": {
        "id": "R4M5OqASixtp"
      },
      "id": "R4M5OqASixtp"
    },
    {
      "cell_type": "code",
      "source": [
        "from sklearn.metrics import mean_squared_error\n",
        "y_pred=regressor.predict(X_test)\n",
        "mse = mean_squared_error(y_pred, y_test)\n",
        "print(y_test - y_pred)\n",
        "print(y_test)\n",
        "print(mse)"
      ],
      "metadata": {
        "colab": {
          "base_uri": "https://localhost:8080/"
        },
        "id": "fdOT6hfXeclv",
        "outputId": "d6adb429-86c9-40f5-df52-521c9785c18d"
      },
      "id": "fdOT6hfXeclv",
      "execution_count": 197,
      "outputs": [
        {
          "output_type": "stream",
          "name": "stdout",
          "text": [
            "[   267.17840204  11677.12239184  13674.21154826   5822.73148742\n",
            "  12512.90778945 -11152.93230165  13377.36790324  -1308.17374687\n",
            "  -3617.18533012  -1733.1256955 ]\n",
            "[103282.38 144259.4  146121.95  77798.83 191050.39 105008.31  81229.06\n",
            "  97483.56 110352.25 166187.94]\n",
            "83502864.03257737\n"
          ]
        }
      ]
    },
    {
      "cell_type": "markdown",
      "source": [
        "حال می خواهیم هایپر پارامتر های مختلف را بررسی کنیم"
      ],
      "metadata": {
        "id": "rDp3ChQZ3SjY"
      },
      "id": "rDp3ChQZ3SjY"
    },
    {
      "cell_type": "code",
      "source": [
        "regressor=LinearRegression()\n",
        "\n",
        "regressor.set_params(copy_X=False, fit_intercept=False)\n",
        "\n",
        "regressor.fit(X_train,y_train)\n",
        "y_pred=regressor.predict(X_test)\n",
        "mse = mean_squared_error(y_pred, y_test)\n",
        "print(y_test - y_pred)\n",
        "print(y_test)\n",
        "print(mse)"
      ],
      "metadata": {
        "colab": {
          "base_uri": "https://localhost:8080/"
        },
        "id": "76XA4K6z3WW_",
        "outputId": "873778b0-ed8a-4b5d-98f8-f2b4a2f86674"
      },
      "id": "76XA4K6z3WW_",
      "execution_count": 198,
      "outputs": [
        {
          "output_type": "stream",
          "name": "stdout",
          "text": [
            "[-13580.06205355  25597.99919003  21168.97108104  17118.81963581\n",
            "  20899.31734342 -19043.20460769  26207.72690872  -8046.64331054\n",
            "  -5114.84705296  10202.48325819]\n",
            "[103282.38 144259.4  146121.95  77798.83 191050.39 105008.31  81229.06\n",
            "  97483.56 110352.25 166187.94]\n",
            "326212582.0713295\n"
          ]
        }
      ]
    },
    {
      "cell_type": "code",
      "source": [
        "regressor=LinearRegression()\n",
        "\n",
        "regressor.set_params(copy_X=False, positive=False)\n",
        "\n",
        "regressor.fit(X_train,y_train)\n",
        "y_pred=regressor.predict(X_test)\n",
        "mse = mean_squared_error(y_pred, y_test)\n",
        "print(y_test - y_pred)\n",
        "print(y_test)\n",
        "print(mse)"
      ],
      "metadata": {
        "colab": {
          "base_uri": "https://localhost:8080/"
        },
        "id": "tUjBBzMy5X13",
        "outputId": "066ecbf4-57d3-430e-a806-aa85e50b5b6c"
      },
      "id": "tUjBBzMy5X13",
      "execution_count": 199,
      "outputs": [
        {
          "output_type": "stream",
          "name": "stdout",
          "text": [
            "[   267.17840204  11677.12239184  13674.21154826   5822.73148742\n",
            "  12512.90778945 -11152.93230165  13377.36790324  -1308.17374687\n",
            "  -3617.18533012  -1733.1256955 ]\n",
            "[103282.38 144259.4  146121.95  77798.83 191050.39 105008.31  81229.06\n",
            "  97483.56 110352.25 166187.94]\n",
            "83502864.03257737\n"
          ]
        }
      ]
    },
    {
      "cell_type": "markdown",
      "source": [
        "حال با لاسو و الاستیک و ... می رسیم"
      ],
      "metadata": {
        "id": "JRS-iU0BCS7y"
      },
      "id": "JRS-iU0BCS7y"
    },
    {
      "cell_type": "code",
      "source": [
        "from sklearn.linear_model import Lasso\n",
        "\n",
        "reg = Lasso(alpha=1)\n",
        "reg.fit(X_train, y_train)\n",
        "\n",
        "print('R squared training set', round(reg.score(X_train, y_train)*100, 2))\n",
        "print('R squared test set', round(reg.score(X_test, y_test)*100, 2))\n",
        "\n",
        "from sklearn.metrics import mean_squared_error\n",
        "\n",
        "# Training data\n",
        "pred_train = reg.predict(X_train)\n",
        "mse_train = mean_squared_error(y_train, pred_train)\n",
        "print('MSE training set', round(mse_train, 2))\n",
        "\n",
        "# Test data\n",
        "pred = reg.predict(X_test)\n",
        "mse_test =mean_squared_error(y_test, pred)\n",
        "print('MSE test set', round(mse_test, 2))"
      ],
      "metadata": {
        "colab": {
          "base_uri": "https://localhost:8080/"
        },
        "id": "BCosLu8RB7d_",
        "outputId": "c786ccf4-358e-466a-cf59-65aad937c0d0"
      },
      "id": "BCosLu8RB7d_",
      "execution_count": 200,
      "outputs": [
        {
          "output_type": "stream",
          "name": "stdout",
          "text": [
            "R squared training set 95.02\n",
            "R squared test set 93.47\n",
            "MSE training set 81571009.19\n",
            "MSE test set 83472605.37\n"
          ]
        }
      ]
    },
    {
      "cell_type": "code",
      "source": [
        "import numpy as np\n",
        "import matplotlib.pyplot as plt\n",
        "\n",
        "alphas = np.linspace(0.01,500,100)\n",
        "lasso = Lasso(max_iter=10000)\n",
        "coefs = []\n",
        "\n",
        "for a in alphas:\n",
        "    lasso.set_params(alpha=a)\n",
        "    lasso.fit(X_train, y_train)\n",
        "    coefs.append(lasso.coef_)\n",
        "\n",
        "ax = plt.gca()\n",
        "\n",
        "ax.plot(alphas, coefs)\n",
        "ax.set_xscale('log')\n",
        "plt.axis('tight')\n",
        "plt.xlabel('alpha')\n",
        "plt.ylabel('Standardized Coefficients')\n",
        "plt.title('Lasso coefficients as a function of alpha');"
      ],
      "metadata": {
        "colab": {
          "base_uri": "https://localhost:8080/",
          "height": 299
        },
        "id": "2KubqQxHClFf",
        "outputId": "4e64f190-7786-4278-81c5-037e02d50964"
      },
      "id": "2KubqQxHClFf",
      "execution_count": 201,
      "outputs": [
        {
          "output_type": "display_data",
          "data": {
            "text/plain": [
              "<Figure size 432x288 with 1 Axes>"
            ],
            "image/png": "[encoded data removed]"
          },
          "metadata": {
            "needs_background": "light"
          }
        }
      ]
    },
    {
      "cell_type": "code",
      "source": [
        "from sklearn.linear_model import LassoCV\n",
        "\n",
        "# Lasso with 5 fold cross-validation\n",
        "model = LassoCV(cv=5, random_state=0, max_iter=10000)\n",
        "\n",
        "# Fit model\n",
        "model.fit(X_train, y_train)\n",
        "\n",
        "model.alpha_"
      ],
      "metadata": {
        "colab": {
          "base_uri": "https://localhost:8080/"
        },
        "id": "cE7OWH30Cq-z",
        "outputId": "575395b9-b182-4b26-f41a-e9192ab2ebbb"
      },
      "id": "cE7OWH30Cq-z",
      "execution_count": 202,
      "outputs": [
        {
          "output_type": "execute_result",
          "data": {
            "text/plain": [
              "9961916.290444203"
            ]
          },
          "metadata": {},
          "execution_count": 202
        }
      ]
    },
    {
      "cell_type": "code",
      "source": [
        "from sklearn.linear_model import Ridge\n",
        "from sklearn.metrics import r2_score\n",
        "\n",
        "rr = Ridge(alpha=0.01)\n",
        "rr.fit(X_train, y_train) \n",
        "pred_train_rr= rr.predict(X_train)\n",
        "print(np.sqrt(mean_squared_error(y_train,pred_train_rr)))\n",
        "print(r2_score(y_train, pred_train_rr))\n",
        "\n",
        "pred_test_rr= rr.predict(X_test)\n",
        "print(np.sqrt(mean_squared_error(y_test,pred_test_rr))) \n",
        "print(r2_score(y_test, pred_test_rr))"
      ],
      "metadata": {
        "colab": {
          "base_uri": "https://localhost:8080/"
        },
        "id": "3yBX4VYLDVu9",
        "outputId": "beb1535d-95ac-42c6-c97c-d6acf55ddbad"
      },
      "id": "3yBX4VYLDVu9",
      "execution_count": 222,
      "outputs": [
        {
          "output_type": "stream",
          "name": "stdout",
          "text": [
            "9031.666632027325\n",
            "0.9501847625348212\n",
            "9137.63122843114\n",
            "0.9347119764305161\n"
          ]
        }
      ]
    },
    {
      "cell_type": "code",
      "source": [
        "from sklearn.linear_model import ElasticNet\n",
        "\n",
        "model_enet = ElasticNet(alpha = 0.01)\n",
        "model_enet.fit(X_train, y_train) \n",
        "pred_train_enet= model_enet.predict(X_train)\n",
        "print(np.sqrt(mean_squared_error(y_train,pred_train_enet)))\n",
        "print(r2_score(y_train, pred_train_enet))\n",
        "\n",
        "pred_test_enet= model_enet.predict(X_test)\n",
        "print(np.sqrt(mean_squared_error(y_test,pred_test_enet)))\n",
        "print(r2_score(y_test, pred_test_enet))"
      ],
      "metadata": {
        "colab": {
          "base_uri": "https://localhost:8080/"
        },
        "id": "PKZUK4U5Dk8A",
        "outputId": "e45be6bc-8350-43d0-b96e-4065efd96d12"
      },
      "id": "PKZUK4U5Dk8A",
      "execution_count": 223,
      "outputs": [
        {
          "output_type": "stream",
          "name": "stdout",
          "text": [
            "9031.674092368105\n",
            "0.9501846802379836\n",
            "9130.95559023943\n",
            "0.9348073359406908\n"
          ]
        }
      ]
    },
    {
      "cell_type": "markdown",
      "source": [
        "پس روی این دیتا با مقایسه ای که به راحتی می توان انجام داد این است که \n",
        "<br>\n",
        "elastic net\n",
        "<br>\n",
        "از همه بهتر کار کرد"
      ],
      "metadata": {
        "id": "dMfv_ibEDus5"
      },
      "id": "dMfv_ibEDus5"
    },
    {
      "cell_type": "code",
      "source": [
        "#adding column of 1's in X\n",
        "import statsmodels.formula.api as sm\n",
        "X=np.append(arr=np.ones((50,1)).astype(int),values=X,axis=1)"
      ],
      "metadata": {
        "id": "vPo_K92NefiV"
      },
      "id": "vPo_K92NefiV",
      "execution_count": 203,
      "outputs": []
    },
    {
      "cell_type": "code",
      "source": [
        "import statsmodels.api as sm1\n",
        "#backward Elimination\n",
        "X_opt=np.array(X[:,[0,1,2,3,4,5]],dtype = float)\n",
        "regressor_OLS=sm1.OLS(endog=y,exog=X_opt).fit()\n",
        "regressor_OLS.summary()"
      ],
      "metadata": {
        "colab": {
          "base_uri": "https://localhost:8080/",
          "height": 572
        },
        "id": "VsJ7OrNJehl-",
        "outputId": "fbc924c5-f609-4f89-b827-7112af34dbbc"
      },
      "id": "VsJ7OrNJehl-",
      "execution_count": 204,
      "outputs": [
        {
          "output_type": "execute_result",
          "data": {
            "text/plain": [
              "<class 'statsmodels.iolib.summary.Summary'>\n",
              "\"\"\"\n",
              "                            OLS Regression Results                            \n",
              "==============================================================================\n",
              "Dep. Variable:                      y   R-squared:                       0.951\n",
              "Model:                            OLS   Adj. R-squared:                  0.945\n",
              "Method:                 Least Squares   F-statistic:                     169.9\n",
              "Date:                Fri, 11 Nov 2022   Prob (F-statistic):           1.34e-27\n",
              "Time:                        09:35:32   Log-Likelihood:                -525.38\n",
              "No. Observations:                  50   AIC:                             1063.\n",
              "Df Residuals:                      44   BIC:                             1074.\n",
              "Df Model:                           5                                         \n",
              "Covariance Type:            nonrobust                                         \n",
              "==============================================================================\n",
              "                 coef    std err          t      P>|t|      [0.025      0.975]\n",
              "------------------------------------------------------------------------------\n",
              "const       5.013e+04   6884.820      7.281      0.000    3.62e+04     6.4e+04\n",
              "x1             0.8060      0.046     17.369      0.000       0.712       0.900\n",
              "x2            -0.0270      0.052     -0.517      0.608      -0.132       0.078\n",
              "x3             0.0270      0.017      1.574      0.123      -0.008       0.062\n",
              "x4           198.7888   3371.007      0.059      0.953   -6595.030    6992.607\n",
              "x5           -41.8870   3256.039     -0.013      0.990   -6604.003    6520.229\n",
              "==============================================================================\n",
              "Omnibus:                       14.782   Durbin-Watson:                   1.283\n",
              "Prob(Omnibus):                  0.001   Jarque-Bera (JB):               21.266\n",
              "Skew:                          -0.948   Prob(JB):                     2.41e-05\n",
              "Kurtosis:                       5.572   Cond. No.                     1.45e+06\n",
              "==============================================================================\n",
              "\n",
              "Notes:\n",
              "[1] Standard Errors assume that the covariance matrix of the errors is correctly specified.\n",
              "[2] The condition number is large, 1.45e+06. This might indicate that there are\n",
              "strong multicollinearity or other numerical problems.\n",
              "\"\"\""
            ],
            "text/html": [
              "<table class=\"simpletable\">\n",
              "<caption>OLS Regression Results</caption>\n",
              "<tr>\n",
              "  <th>Dep. Variable:</th>            <td>y</td>        <th>  R-squared:         </th> <td>   0.951</td>\n",
              "</tr>\n",
              "<tr>\n",
              "  <th>Model:</th>                   <td>OLS</td>       <th>  Adj. R-squared:    </th> <td>   0.945</td>\n",
              "</tr>\n",
              "<tr>\n",
              "  <th>Method:</th>             <td>Least Squares</td>  <th>  F-statistic:       </th> <td>   169.9</td>\n",
              "</tr>\n",
              "<tr>\n",
              "  <th>Date:</th>             <td>Fri, 11 Nov 2022</td> <th>  Prob (F-statistic):</th> <td>1.34e-27</td>\n",
              "</tr>\n",
              "<tr>\n",
              "  <th>Time:</th>                 <td>09:35:32</td>     <th>  Log-Likelihood:    </th> <td> -525.38</td>\n",
              "</tr>\n",
              "<tr>\n",
              "  <th>No. Observations:</th>      <td>    50</td>      <th>  AIC:               </th> <td>   1063.</td>\n",
              "</tr>\n",
              "<tr>\n",
              "  <th>Df Residuals:</th>          <td>    44</td>      <th>  BIC:               </th> <td>   1074.</td>\n",
              "</tr>\n",
              "<tr>\n",
              "  <th>Df Model:</th>              <td>     5</td>      <th>                     </th>     <td> </td>   \n",
              "</tr>\n",
              "<tr>\n",
              "  <th>Covariance Type:</th>      <td>nonrobust</td>    <th>                     </th>     <td> </td>   \n",
              "</tr>\n",
              "</table>\n",
              "<table class=\"simpletable\">\n",
              "<tr>\n",
              "    <td></td>       <th>coef</th>     <th>std err</th>      <th>t</th>      <th>P>|t|</th>  <th>[0.025</th>    <th>0.975]</th>  \n",
              "</tr>\n",
              "<tr>\n",
              "  <th>const</th> <td> 5.013e+04</td> <td> 6884.820</td> <td>    7.281</td> <td> 0.000</td> <td> 3.62e+04</td> <td>  6.4e+04</td>\n",
              "</tr>\n",
              "<tr>\n",
              "  <th>x1</th>    <td>    0.8060</td> <td>    0.046</td> <td>   17.369</td> <td> 0.000</td> <td>    0.712</td> <td>    0.900</td>\n",
              "</tr>\n",
              "<tr>\n",
              "  <th>x2</th>    <td>   -0.0270</td> <td>    0.052</td> <td>   -0.517</td> <td> 0.608</td> <td>   -0.132</td> <td>    0.078</td>\n",
              "</tr>\n",
              "<tr>\n",
              "  <th>x3</th>    <td>    0.0270</td> <td>    0.017</td> <td>    1.574</td> <td> 0.123</td> <td>   -0.008</td> <td>    0.062</td>\n",
              "</tr>\n",
              "<tr>\n",
              "  <th>x4</th>    <td>  198.7888</td> <td> 3371.007</td> <td>    0.059</td> <td> 0.953</td> <td>-6595.030</td> <td> 6992.607</td>\n",
              "</tr>\n",
              "<tr>\n",
              "  <th>x5</th>    <td>  -41.8870</td> <td> 3256.039</td> <td>   -0.013</td> <td> 0.990</td> <td>-6604.003</td> <td> 6520.229</td>\n",
              "</tr>\n",
              "</table>\n",
              "<table class=\"simpletable\">\n",
              "<tr>\n",
              "  <th>Omnibus:</th>       <td>14.782</td> <th>  Durbin-Watson:     </th> <td>   1.283</td>\n",
              "</tr>\n",
              "<tr>\n",
              "  <th>Prob(Omnibus):</th> <td> 0.001</td> <th>  Jarque-Bera (JB):  </th> <td>  21.266</td>\n",
              "</tr>\n",
              "<tr>\n",
              "  <th>Skew:</th>          <td>-0.948</td> <th>  Prob(JB):          </th> <td>2.41e-05</td>\n",
              "</tr>\n",
              "<tr>\n",
              "  <th>Kurtosis:</th>      <td> 5.572</td> <th>  Cond. No.          </th> <td>1.45e+06</td>\n",
              "</tr>\n",
              "</table><br/><br/>Notes:<br/>[1] Standard Errors assume that the covariance matrix of the errors is correctly specified.<br/>[2] The condition number is large, 1.45e+06. This might indicate that there are<br/>strong multicollinearity or other numerical problems."
            ]
          },
          "metadata": {},
          "execution_count": 204
        }
      ]
    },
    {
      "cell_type": "code",
      "source": [
        "#forward selection\n",
        "X_opt2=np.array(X[:,[0]],dtype = float)\n",
        "regressor_OLS2=sm1.OLS(endog=y,exog=X_opt2).fit()\n",
        "regressor_OLS2.summary()"
      ],
      "metadata": {
        "colab": {
          "base_uri": "https://localhost:8080/",
          "height": 430
        },
        "id": "hTE9fhxVenry",
        "outputId": "f26226b1-2392-481b-eee7-00085c490fe2"
      },
      "id": "hTE9fhxVenry",
      "execution_count": 205,
      "outputs": [
        {
          "output_type": "execute_result",
          "data": {
            "text/plain": [
              "<class 'statsmodels.iolib.summary.Summary'>\n",
              "\"\"\"\n",
              "                            OLS Regression Results                            \n",
              "==============================================================================\n",
              "Dep. Variable:                      y   R-squared:                       0.000\n",
              "Model:                            OLS   Adj. R-squared:                  0.000\n",
              "Method:                 Least Squares   F-statistic:                       nan\n",
              "Date:                Fri, 11 Nov 2022   Prob (F-statistic):                nan\n",
              "Time:                        09:35:32   Log-Likelihood:                -600.65\n",
              "No. Observations:                  50   AIC:                             1203.\n",
              "Df Residuals:                      49   BIC:                             1205.\n",
              "Df Model:                           0                                         \n",
              "Covariance Type:            nonrobust                                         \n",
              "==============================================================================\n",
              "                 coef    std err          t      P>|t|      [0.025      0.975]\n",
              "------------------------------------------------------------------------------\n",
              "const        1.12e+05   5700.155     19.651      0.000    1.01e+05    1.23e+05\n",
              "==============================================================================\n",
              "Omnibus:                        0.018   Durbin-Watson:                   0.020\n",
              "Prob(Omnibus):                  0.991   Jarque-Bera (JB):                0.068\n",
              "Skew:                           0.023   Prob(JB):                        0.966\n",
              "Kurtosis:                       2.825   Cond. No.                         1.00\n",
              "==============================================================================\n",
              "\n",
              "Notes:\n",
              "[1] Standard Errors assume that the covariance matrix of the errors is correctly specified.\n",
              "\"\"\""
            ],
            "text/html": [
              "<table class=\"simpletable\">\n",
              "<caption>OLS Regression Results</caption>\n",
              "<tr>\n",
              "  <th>Dep. Variable:</th>            <td>y</td>        <th>  R-squared:         </th> <td>   0.000</td>\n",
              "</tr>\n",
              "<tr>\n",
              "  <th>Model:</th>                   <td>OLS</td>       <th>  Adj. R-squared:    </th> <td>   0.000</td>\n",
              "</tr>\n",
              "<tr>\n",
              "  <th>Method:</th>             <td>Least Squares</td>  <th>  F-statistic:       </th> <td>     nan</td>\n",
              "</tr>\n",
              "<tr>\n",
              "  <th>Date:</th>             <td>Fri, 11 Nov 2022</td> <th>  Prob (F-statistic):</th>  <td>   nan</td> \n",
              "</tr>\n",
              "<tr>\n",
              "  <th>Time:</th>                 <td>09:35:32</td>     <th>  Log-Likelihood:    </th> <td> -600.65</td>\n",
              "</tr>\n",
              "<tr>\n",
              "  <th>No. Observations:</th>      <td>    50</td>      <th>  AIC:               </th> <td>   1203.</td>\n",
              "</tr>\n",
              "<tr>\n",
              "  <th>Df Residuals:</th>          <td>    49</td>      <th>  BIC:               </th> <td>   1205.</td>\n",
              "</tr>\n",
              "<tr>\n",
              "  <th>Df Model:</th>              <td>     0</td>      <th>                     </th>     <td> </td>   \n",
              "</tr>\n",
              "<tr>\n",
              "  <th>Covariance Type:</th>      <td>nonrobust</td>    <th>                     </th>     <td> </td>   \n",
              "</tr>\n",
              "</table>\n",
              "<table class=\"simpletable\">\n",
              "<tr>\n",
              "    <td></td>       <th>coef</th>     <th>std err</th>      <th>t</th>      <th>P>|t|</th>  <th>[0.025</th>    <th>0.975]</th>  \n",
              "</tr>\n",
              "<tr>\n",
              "  <th>const</th> <td>  1.12e+05</td> <td> 5700.155</td> <td>   19.651</td> <td> 0.000</td> <td> 1.01e+05</td> <td> 1.23e+05</td>\n",
              "</tr>\n",
              "</table>\n",
              "<table class=\"simpletable\">\n",
              "<tr>\n",
              "  <th>Omnibus:</th>       <td> 0.018</td> <th>  Durbin-Watson:     </th> <td>   0.020</td>\n",
              "</tr>\n",
              "<tr>\n",
              "  <th>Prob(Omnibus):</th> <td> 0.991</td> <th>  Jarque-Bera (JB):  </th> <td>   0.068</td>\n",
              "</tr>\n",
              "<tr>\n",
              "  <th>Skew:</th>          <td> 0.023</td> <th>  Prob(JB):          </th> <td>   0.966</td>\n",
              "</tr>\n",
              "<tr>\n",
              "  <th>Kurtosis:</th>      <td> 2.825</td> <th>  Cond. No.          </th> <td>    1.00</td>\n",
              "</tr>\n",
              "</table><br/><br/>Notes:<br/>[1] Standard Errors assume that the covariance matrix of the errors is correctly specified."
            ]
          },
          "metadata": {},
          "execution_count": 205
        }
      ]
    },
    {
      "cell_type": "markdown",
      "source": [
        "<b>----------------------------------------------------------------------------------------------------------------------------------------------------------------------------------------------------------------------------------------------------------------------------------------- Now I want to implement it by myself</b>"
      ],
      "metadata": {
        "id": "6B75VGPnjmk5"
      },
      "id": "6B75VGPnjmk5"
    },
    {
      "cell_type": "code",
      "source": [
        "dataset = pd.read_csv('50_Startups.csv')\n",
        "X = dataset.iloc[:, :-1].values\n",
        "y = dataset.iloc[:, 4].values\n",
        "dataset.head()"
      ],
      "metadata": {
        "colab": {
          "base_uri": "https://localhost:8080/",
          "height": 206
        },
        "id": "9Rw-JQu2jraO",
        "outputId": "63ac0d11-9708-40ba-c96c-8547cdd30c77"
      },
      "id": "9Rw-JQu2jraO",
      "execution_count": 206,
      "outputs": [
        {
          "output_type": "execute_result",
          "data": {
            "text/plain": [
              "   R&D Spend  Administration  Marketing Spend       State     Profit\n",
              "0  165349.20       136897.80        471784.10    New York  192261.83\n",
              "1  162597.70       151377.59        443898.53  California  191792.06\n",
              "2  153441.51       101145.55        407934.54     Florida  191050.39\n",
              "3  144372.41       118671.85        383199.62    New York  182901.99\n",
              "4  142107.34        91391.77        366168.42     Florida  166187.94"
            ],
            "text/html": [
              "\n",
              "  <div id=\"df-4f335137-ac36-48b5-a8e3-544b8223c228\">\n",
              "    <div class=\"colab-df-container\">\n",
              "      <div>\n",
              "<style scoped>\n",
              "    .dataframe tbody tr th:only-of-type {\n",
              "        vertical-align: middle;\n",
              "    }\n",
              "\n",
              "    .dataframe tbody tr th {\n",
              "        vertical-align: top;\n",
              "    }\n",
              "\n",
              "    .dataframe thead th {\n",
              "        text-align: right;\n",
              "    }\n",
              "</style>\n",
              "<table border=\"1\" class=\"dataframe\">\n",
              "  <thead>\n",
              "    <tr style=\"text-align: right;\">\n",
              "      <th></th>\n",
              "      <th>R&amp;D Spend</th>\n",
              "      <th>Administration</th>\n",
              "      <th>Marketing Spend</th>\n",
              "      <th>State</th>\n",
              "      <th>Profit</th>\n",
              "    </tr>\n",
              "  </thead>\n",
              "  <tbody>\n",
              "    <tr>\n",
              "      <th>0</th>\n",
              "      <td>165349.20</td>\n",
              "      <td>136897.80</td>\n",
              "      <td>471784.10</td>\n",
              "      <td>New York</td>\n",
              "      <td>192261.83</td>\n",
              "    </tr>\n",
              "    <tr>\n",
              "      <th>1</th>\n",
              "      <td>162597.70</td>\n",
              "      <td>151377.59</td>\n",
              "      <td>443898.53</td>\n",
              "      <td>California</td>\n",
              "      <td>191792.06</td>\n",
              "    </tr>\n",
              "    <tr>\n",
              "      <th>2</th>\n",
              "      <td>153441.51</td>\n",
              "      <td>101145.55</td>\n",
              "      <td>407934.54</td>\n",
              "      <td>Florida</td>\n",
              "      <td>191050.39</td>\n",
              "    </tr>\n",
              "    <tr>\n",
              "      <th>3</th>\n",
              "      <td>144372.41</td>\n",
              "      <td>118671.85</td>\n",
              "      <td>383199.62</td>\n",
              "      <td>New York</td>\n",
              "      <td>182901.99</td>\n",
              "    </tr>\n",
              "    <tr>\n",
              "      <th>4</th>\n",
              "      <td>142107.34</td>\n",
              "      <td>91391.77</td>\n",
              "      <td>366168.42</td>\n",
              "      <td>Florida</td>\n",
              "      <td>166187.94</td>\n",
              "    </tr>\n",
              "  </tbody>\n",
              "</table>\n",
              "</div>\n",
              "      <button class=\"colab-df-convert\" onclick=\"convertToInteractive('df-4f335137-ac36-48b5-a8e3-544b8223c228')\"\n",
              "              title=\"Convert this dataframe to an interactive table.\"\n",
              "              style=\"display:none;\">\n",
              "        \n",
              "  <svg xmlns=\"http://www.w3.org/2000/svg\" height=\"24px\"viewBox=\"0 0 24 24\"\n",
              "       width=\"24px\">\n",
              "    <path d=\"M0 0h24v24H0V0z\" fill=\"none\"/>\n",
              "    <path d=\"M18.56 5.44l.94 2.06.94-2.06 2.06-.94-2.06-.94-.94-2.06-.94 2.06-2.06.94zm-11 1L8.5 8.5l.94-2.06 2.06-.94-2.06-.94L8.5 2.5l-.94 2.06-2.06.94zm10 10l.94 2.06.94-2.06 2.06-.94-2.06-.94-.94-2.06-.94 2.06-2.06.94z\"/><path d=\"M17.41 7.96l-1.37-1.37c-.4-.4-.92-.59-1.43-.59-.52 0-1.04.2-1.43.59L10.3 9.45l-7.72 7.72c-.78.78-.78 2.05 0 2.83L4 21.41c.39.39.9.59 1.41.59.51 0 1.02-.2 1.41-.59l7.78-7.78 2.81-2.81c.8-.78.8-2.07 0-2.86zM5.41 20L4 18.59l7.72-7.72 1.47 1.35L5.41 20z\"/>\n",
              "  </svg>\n",
              "      </button>\n",
              "      \n",
              "  <style>\n",
              "    .colab-df-container {\n",
              "      display:flex;\n",
              "      flex-wrap:wrap;\n",
              "      gap: 12px;\n",
              "    }\n",
              "\n",
              "    .colab-df-convert {\n",
              "      background-color: #E8F0FE;\n",
              "      border: none;\n",
              "      border-radius: 50%;\n",
              "      cursor: pointer;\n",
              "      display: none;\n",
              "      fill: #1967D2;\n",
              "      height: 32px;\n",
              "      padding: 0 0 0 0;\n",
              "      width: 32px;\n",
              "    }\n",
              "\n",
              "    .colab-df-convert:hover {\n",
              "      background-color: #E2EBFA;\n",
              "      box-shadow: 0px 1px 2px rgba(60, 64, 67, 0.3), 0px 1px 3px 1px rgba(60, 64, 67, 0.15);\n",
              "      fill: #174EA6;\n",
              "    }\n",
              "\n",
              "    [theme=dark] .colab-df-convert {\n",
              "      background-color: #3B4455;\n",
              "      fill: #D2E3FC;\n",
              "    }\n",
              "\n",
              "    [theme=dark] .colab-df-convert:hover {\n",
              "      background-color: #434B5C;\n",
              "      box-shadow: 0px 1px 3px 1px rgba(0, 0, 0, 0.15);\n",
              "      filter: drop-shadow(0px 1px 2px rgba(0, 0, 0, 0.3));\n",
              "      fill: #FFFFFF;\n",
              "    }\n",
              "  </style>\n",
              "\n",
              "      <script>\n",
              "        const buttonEl =\n",
              "          document.querySelector('#df-4f335137-ac36-48b5-a8e3-544b8223c228 button.colab-df-convert');\n",
              "        buttonEl.style.display =\n",
              "          google.colab.kernel.accessAllowed ? 'block' : 'none';\n",
              "\n",
              "        async function convertToInteractive(key) {\n",
              "          const element = document.querySelector('#df-4f335137-ac36-48b5-a8e3-544b8223c228');\n",
              "          const dataTable =\n",
              "            await google.colab.kernel.invokeFunction('convertToInteractive',\n",
              "                                                     [key], {});\n",
              "          if (!dataTable) return;\n",
              "\n",
              "          const docLinkHtml = 'Like what you see? Visit the ' +\n",
              "            '<a target=\"_blank\" href=https://colab.research.google.com/notebooks/data_table.ipynb>data table notebook</a>'\n",
              "            + ' to learn more about interactive tables.';\n",
              "          element.innerHTML = '';\n",
              "          dataTable['output_type'] = 'display_data';\n",
              "          await google.colab.output.renderOutput(dataTable, element);\n",
              "          const docLink = document.createElement('div');\n",
              "          docLink.innerHTML = docLinkHtml;\n",
              "          element.appendChild(docLink);\n",
              "        }\n",
              "      </script>\n",
              "    </div>\n",
              "  </div>\n",
              "  "
            ]
          },
          "metadata": {},
          "execution_count": 206
        }
      ]
    },
    {
      "cell_type": "code",
      "source": [
        "# Encoding the Independent Variable\n",
        "from sklearn.preprocessing import LabelEncoder, OneHotEncoder\n",
        "labelencoder_X = LabelEncoder()\n",
        "X[:, 3] = labelencoder_X.fit_transform(X[:, 3])\n",
        "onehotencoder = OneHotEncoder()\n",
        "a = onehotencoder.fit_transform(X[:,[3]]).toarray()"
      ],
      "metadata": {
        "id": "urPVfChnlYPm"
      },
      "id": "urPVfChnlYPm",
      "execution_count": 207,
      "outputs": []
    },
    {
      "cell_type": "code",
      "source": [
        "#Avoiding the dummy variable Trap\n",
        "a=a[:,1:]\n",
        "#Adding encoded data into X\n",
        "X = X[:,:3]\n",
        "X=np.concatenate((X, a),axis=1)"
      ],
      "metadata": {
        "id": "aATm6DC7lefv"
      },
      "id": "aATm6DC7lefv",
      "execution_count": 208,
      "outputs": []
    },
    {
      "cell_type": "code",
      "source": [
        "# Splitting the dataset into the Training set and Test set\n",
        "from sklearn.model_selection import train_test_split\n",
        "X_train, X_test, y_train, y_test = train_test_split(X, y, test_size = 0.2, random_state = 0)"
      ],
      "metadata": {
        "id": "VlfSXyzHloff"
      },
      "id": "VlfSXyzHloff",
      "execution_count": 209,
      "outputs": []
    },
    {
      "cell_type": "code",
      "source": [
        "X = np.append(np.ones((50, 1)), X , axis=1)\n",
        "X = X.astype(np.int32)\n",
        "X"
      ],
      "metadata": {
        "colab": {
          "base_uri": "https://localhost:8080/"
        },
        "id": "G7KdWtm4kyRj",
        "outputId": "11547e18-8f9c-4f95-a979-291549d9fdac"
      },
      "id": "G7KdWtm4kyRj",
      "execution_count": 210,
      "outputs": [
        {
          "output_type": "execute_result",
          "data": {
            "text/plain": [
              "array([[     1, 165349, 136897, 471784,      0,      1],\n",
              "       [     1, 162597, 151377, 443898,      0,      0],\n",
              "       [     1, 153441, 101145, 407934,      1,      0],\n",
              "       [     1, 144372, 118671, 383199,      0,      1],\n",
              "       [     1, 142107,  91391, 366168,      1,      0],\n",
              "       [     1, 131876,  99814, 362861,      0,      1],\n",
              "       [     1, 134615, 147198, 127716,      0,      0],\n",
              "       [     1, 130298, 145530, 323876,      1,      0],\n",
              "       [     1, 120542, 148718, 311613,      0,      1],\n",
              "       [     1, 123334, 108679, 304981,      0,      0],\n",
              "       [     1, 101913, 110594, 229160,      1,      0],\n",
              "       [     1, 100671,  91790, 249744,      0,      0],\n",
              "       [     1,  93863, 127320, 249839,      1,      0],\n",
              "       [     1,  91992, 135495, 252664,      0,      0],\n",
              "       [     1, 119943, 156547, 256512,      1,      0],\n",
              "       [     1, 114523, 122616, 261776,      0,      1],\n",
              "       [     1,  78013, 121597, 264346,      0,      0],\n",
              "       [     1,  94657, 145077, 282574,      0,      1],\n",
              "       [     1,  91749, 114175, 294919,      1,      0],\n",
              "       [     1,  86419, 153514,      0,      0,      1],\n",
              "       [     1,  76253, 113867, 298664,      0,      0],\n",
              "       [     1,  78389, 153773, 299737,      0,      1],\n",
              "       [     1,  73994, 122782, 303319,      1,      0],\n",
              "       [     1,  67532, 105751, 304768,      1,      0],\n",
              "       [     1,  77044,  99281, 140574,      0,      1],\n",
              "       [     1,  64664, 139553, 137962,      0,      0],\n",
              "       [     1,  75328, 144135, 134050,      1,      0],\n",
              "       [     1,  72107, 127864, 353183,      0,      1],\n",
              "       [     1,  66051, 182645, 118148,      1,      0],\n",
              "       [     1,  65605, 153032, 107138,      0,      1],\n",
              "       [     1,  61994, 115641,  91131,      1,      0],\n",
              "       [     1,  61136, 152701,  88218,      0,      1],\n",
              "       [     1,  63408, 129219,  46085,      0,      0],\n",
              "       [     1,  55493, 103057, 214634,      1,      0],\n",
              "       [     1,  46426, 157693, 210797,      0,      0],\n",
              "       [     1,  46014,  85047, 205517,      0,      1],\n",
              "       [     1,  28663, 127056, 201126,      1,      0],\n",
              "       [     1,  44069,  51283, 197029,      0,      0],\n",
              "       [     1,  20229,  65947, 185265,      0,      1],\n",
              "       [     1,  38558,  82982, 174999,      0,      0],\n",
              "       [     1,  28754, 118546, 172795,      0,      0],\n",
              "       [     1,  27892,  84710, 164470,      1,      0],\n",
              "       [     1,  23640,  96189, 148001,      0,      0],\n",
              "       [     1,  15505, 127382,  35534,      0,      1],\n",
              "       [     1,  22177, 154806,  28334,      0,      0],\n",
              "       [     1,   1000, 124153,   1903,      0,      1],\n",
              "       [     1,   1315, 115816, 297114,      1,      0],\n",
              "       [     1,      0, 135426,      0,      0,      0],\n",
              "       [     1,    542,  51743,      0,      0,      1],\n",
              "       [     1,      0, 116983,  45173,      0,      0]], dtype=int32)"
            ]
          },
          "metadata": {},
          "execution_count": 210
        }
      ]
    },
    {
      "cell_type": "code",
      "source": [
        "# .dot() represent matrix multiplication in numpy\n",
        "def lr_predict(X, W):\n",
        "    return np.dot(X, W)"
      ],
      "metadata": {
        "id": "bioenjHdlFha"
      },
      "id": "bioenjHdlFha",
      "execution_count": 211,
      "outputs": []
    },
    {
      "cell_type": "code",
      "source": [
        "def closed_form_lr(X, Y):\n",
        "    W = np.dot((np.linalg.inv((np.dot(X.T,X)).astype(np.int32))), np.dot(X.T,Y))\n",
        "    predictions = lr_predict(X, W)\n",
        "    return predictions"
      ],
      "metadata": {
        "id": "TDbOGlJSlJEZ"
      },
      "id": "TDbOGlJSlJEZ",
      "execution_count": 212,
      "outputs": []
    },
    {
      "cell_type": "code",
      "source": [
        "predictions = closed_form_lr(X_train, y_train)"
      ],
      "metadata": {
        "id": "5ba5L21ElNiX"
      },
      "id": "5ba5L21ElNiX",
      "execution_count": 213,
      "outputs": []
    },
    {
      "cell_type": "code",
      "source": [
        "def mse_loss(pred, real):\n",
        "    diff = pred - real\n",
        "    return np.sum(diff * diff) / diff.size\n",
        "mse_loss(predictions, y_train)"
      ],
      "metadata": {
        "colab": {
          "base_uri": "https://localhost:8080/"
        },
        "id": "08dQf8fsrVKF",
        "outputId": "5967145d-7552-4fcd-868c-bf90e55c2070"
      },
      "id": "08dQf8fsrVKF",
      "execution_count": 214,
      "outputs": [
        {
          "output_type": "execute_result",
          "data": {
            "text/plain": [
              "2.6814448264873016e+16"
            ]
          },
          "metadata": {},
          "execution_count": 214
        }
      ]
    },
    {
      "cell_type": "code",
      "source": [
        "# Weights\n",
        "W = np.random.rand(5, 1)\n",
        "W"
      ],
      "metadata": {
        "colab": {
          "base_uri": "https://localhost:8080/"
        },
        "id": "JLsKkdAyrmpO",
        "outputId": "c5c6a2ac-b1ed-4ffd-95c9-6c3dd1d32484"
      },
      "id": "JLsKkdAyrmpO",
      "execution_count": 215,
      "outputs": [
        {
          "output_type": "execute_result",
          "data": {
            "text/plain": [
              "array([[0.11417626],\n",
              "       [0.58159398],\n",
              "       [0.61215313],\n",
              "       [0.37622967],\n",
              "       [0.94226448]])"
            ]
          },
          "metadata": {},
          "execution_count": 215
        }
      ]
    },
    {
      "cell_type": "code",
      "source": [
        "predictions = lr_predict(X_train, W)\n",
        "predictions"
      ],
      "metadata": {
        "colab": {
          "base_uri": "https://localhost:8080/"
        },
        "id": "nPjzoY5Atu4A",
        "outputId": "895ec576-5a14-4dcc-c19d-80223254f098"
      },
      "id": "nPjzoY5Atu4A",
      "execution_count": 216,
      "outputs": [
        {
          "output_type": "execute_result",
          "data": {
            "text/plain": [
              "array([[197663.4538403889],\n",
              "       [180525.99619840123],\n",
              "       [174488.93234477768],\n",
              "       [226055.0422937582],\n",
              "       [257415.841473232],\n",
              "       [297778.85871320416],\n",
              "       [261767.26981867122],\n",
              "       [73487.30165495336],\n",
              "       [30156.33584365091],\n",
              "       [162079.14936930666],\n",
              "       [244637.17353430067],\n",
              "       [130121.21961291613],\n",
              "       [110604.36318121087],\n",
              "       [241447.91552290384],\n",
              "       [149241.88496251102],\n",
              "       [257759.30618837522],\n",
              "       [97608.46020361935],\n",
              "       [291013.1323420901],\n",
              "       [243976.09104235965],\n",
              "       [173000.70144409474],\n",
              "       [295236.5044959951],\n",
              "       [268163.5374360078],\n",
              "       [178006.1405401987],\n",
              "       [95689.90341589965],\n",
              "       [378338.96586051135],\n",
              "       [237706.14915044568],\n",
              "       [155469.8833741861],\n",
              "       [152592.27823997228],\n",
              "       [179162.11672883667],\n",
              "       [255780.281709165],\n",
              "       [200288.6357521405],\n",
              "       [281869.97934603406],\n",
              "       [99150.9019077418],\n",
              "       [263984.51890399354],\n",
              "       [159790.71923696465],\n",
              "       [249388.12710271913],\n",
              "       [320080.5236168112],\n",
              "       [387302.9444078975],\n",
              "       [78763.4808570438],\n",
              "       [109911.67737398647]], dtype=object)"
            ]
          },
          "metadata": {},
          "execution_count": 216
        }
      ]
    },
    {
      "cell_type": "code",
      "source": [
        "loss = mse_loss(predictions, y_train)\n",
        "print(loss)"
      ],
      "metadata": {
        "colab": {
          "base_uri": "https://localhost:8080/"
        },
        "id": "3uSGGEHRt0pE",
        "outputId": "57986538-5608-47bd-9c4d-2cdb827fdaae"
      },
      "id": "3uSGGEHRt0pE",
      "execution_count": 217,
      "outputs": [
        {
          "output_type": "stream",
          "name": "stdout",
          "text": [
            "17305961363.844696\n"
          ]
        }
      ]
    },
    {
      "cell_type": "code",
      "source": [
        "def calc_gradient(X, error):\n",
        "    gradient = np.dot(X.T, error)\n",
        "    return gradient"
      ],
      "metadata": {
        "id": "8wyzMYB3t6dd"
      },
      "id": "8wyzMYB3t6dd",
      "execution_count": 218,
      "outputs": []
    },
    {
      "cell_type": "code",
      "source": [
        "def update_weights(W, lr, gradient):\n",
        "    new_weights = W - lr * gradient\n",
        "    return new_weights"
      ],
      "metadata": {
        "id": "scsJO_37t_uA"
      },
      "id": "scsJO_37t_uA",
      "execution_count": 219,
      "outputs": []
    },
    {
      "cell_type": "code",
      "source": [
        "def train_model_lr_gd(X, Y, W, n_epoches, lr):\n",
        "    losses = []\n",
        "    for i in range(n_epoches):\n",
        "        # generating the predictions \n",
        "        predictions = lr_predict(X, W)\n",
        "        error = predictions - Y\n",
        "        # calculating the loss\n",
        "        loss = mse_loss(predictions, Y)\n",
        "        # adding the loss to our loss list \n",
        "        losses.append(loss)\n",
        "        # calculating gradients\n",
        "        gradient = calc_gradient(X, error) / Y.size\n",
        "        # updating weights and biases\n",
        "        W = update_weights(W, lr, gradient)\n",
        "    return W, losses"
      ],
      "metadata": {
        "id": "0h3-DNa2uCsI"
      },
      "id": "0h3-DNa2uCsI",
      "execution_count": 220,
      "outputs": []
    },
    {
      "cell_type": "code",
      "source": [
        "W = np.random.rand(5, 1)\n",
        "lr = 1e-5\n",
        "n_epoches = 100\n",
        "W, losses = train_model_lr_gd(X_train, y_train, W, n_epoches, lr)\n",
        "print(losses[-1])"
      ],
      "metadata": {
        "colab": {
          "base_uri": "https://localhost:8080/"
        },
        "id": "_au3rw6luFZX",
        "outputId": "078cae61-4d5d-4008-e9d7-992ada82dca6"
      },
      "id": "_au3rw6luFZX",
      "execution_count": 221,
      "outputs": [
        {
          "output_type": "stream",
          "name": "stdout",
          "text": [
            "nan\n"
          ]
        },
        {
          "output_type": "stream",
          "name": "stderr",
          "text": [
            "/usr/local/lib/python3.7/dist-packages/ipykernel_launcher.py:3: RuntimeWarning: overflow encountered in multiply\n",
            "  This is separate from the ipykernel package so we can avoid doing imports until\n"
          ]
        }
      ]
    }
  ],
  "metadata": {
    "kernelspec": {
      "display_name": "Python 3 (ipykernel)",
      "language": "python",
      "name": "python3"
    },
    "language_info": {
      "codemirror_mode": {
        "name": "ipython",
        "version": 3
      },
      "file_extension": ".py",
      "mimetype": "text/x-python",
      "name": "python",
      "nbconvert_exporter": "python",
      "pygments_lexer": "ipython3",
      "version": "3.9.7"
    },
    "colab": {
      "provenance": []
    }
  },
  "nbformat": 4,
  "nbformat_minor": 5
}