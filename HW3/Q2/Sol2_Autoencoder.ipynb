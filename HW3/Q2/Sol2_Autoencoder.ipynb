{
  "cells": [
    {
      "cell_type": "markdown",
      "metadata": {
        "id": "NgOL7XSieqrc"
      },
      "source": [
        "<img src='http://www-scf.usc.edu/~ghasemig/images/sharif.png' alt=\"SUT logo\" width=200 height=200 align=left class=\"saturate\" >\n",
        "\n",
        "<br>\n",
        "<font face=\"Times New Roman\">\n",
        "<div dir=ltr align=center>\n",
        "<font color=0F5298 size=7>\n",
        "    Introduction to Machine Learning <br>\n",
        "<font color=2565AE size=5>\n",
        "    Computer Engineering Department <br>\n",
        "    Fall 2022<br>\n",
        "<font color=3C99D size=5>\n",
        "    Homework 3: Practical - Neural Network <br>\n",
        "<font color=696880 size=4>\n",
        "    Alireza Belal\n",
        "    \n",
        "    \n",
        "____\n"
      ]
    },
    {
      "cell_type": "markdown",
      "metadata": {
        "id": "dS3S59HGeqrm"
      },
      "source": [
        "### Full Name : Ali Nazari\n",
        "### Student Number : 99102401\n",
        "___"
      ]
    },
    {
      "cell_type": "markdown",
      "metadata": {
        "id": "QyPvdWGCeqrn"
      },
      "source": [
        "# Setup"
      ]
    },
    {
      "cell_type": "markdown",
      "metadata": {
        "id": "gh6jKP-Keqrn"
      },
      "source": [
        "# 0. Preparation\n",
        "\n",
        "In this part, you will use a dataset related to COVID-19. Load your dataset using pandas."
      ]
    },
    {
      "cell_type": "code",
      "execution_count": 69,
      "metadata": {
        "id": "ahfJjf5xeqro"
      },
      "outputs": [],
      "source": [
        "import pandas as pd\n",
        "from sklearn.preprocessing import LabelEncoder\n",
        "covid_data = pd.read_csv('./Covid Dataset.csv')\n",
        "categorical_feature_mask = covid_data.dtypes == object\n",
        "cateforical_cols = covid_data.columns[categorical_feature_mask].tolist()\n",
        "le = LabelEncoder()\n",
        "covid_data[cateforical_cols] = covid_data[cateforical_cols].apply(lambda col: le.fit_transform(col))\n",
        "covid_data = covid_data.astype(float)\n",
        "\n",
        "# Extract X and Y from the dataset\n",
        "X_total = covid_data.iloc[:, 0:20].values\n",
        "y_total = covid_data.iloc[:,20].values\n",
        "\n",
        "\n",
        "#SPLIT THE DATA INTO TRAIN AND TEST DATA \n",
        "from sklearn.model_selection import train_test_split\n",
        "X_train, X_test, y_train, y_test = train_test_split(X_total, y_total, test_size = 0.3, random_state = 0)"
      ]
    },
    {
      "cell_type": "markdown",
      "metadata": {
        "id": "l-NaYMP2eqrp"
      },
      "source": [
        "---------------"
      ]
    },
    {
      "cell_type": "markdown",
      "metadata": {
        "id": "Ap_R_GhNeqrp"
      },
      "source": [
        "# 1. DNN as nonlinear dimensionality reduction method (50 Points)\n",
        "\n",
        "Autoencoder is an unsupervised artificial neural network that compresses the data to lower dimension and then reconstructs the input back. Autoencoder finds the representation of the data in a lower dimension by focusing more on the important features getting rid of noise and redundancy. It's based on Encoder-Decoder architecture, where encoder encodes the high-dimensional data to lower-dimension and decoder takes the lower-dimensional data and tries to reconstruct the original high-dimensional data.\n",
        "\n",
        "![picture](https://drive.google.com/uc?id=1RTZwx4xL6zFV_nUENBgWlFKLKldPoyI-)\n",
        "\n",
        "In the above Diagram, X is the input data, z is the lower-dimension representation of input X and X’ is the reconstructed input data. The mapping of higher to lower dimensions can be linear or non-linear depending on the choice of the activation function.\n",
        "\n",
        "In this part you're gonna implement an autoencoder using Keras framework as dimensionally reduction module as explained [here](https://blog.keras.io/building-autoencoders-in-keras.html).\n",
        "(It would be ok to use PyTorch as well.)\n",
        "Reduce the dimension of the data to 2 dimensions and visualize the low-dimensional data."
      ]
    },
    {
      "cell_type": "code",
      "execution_count": 70,
      "metadata": {
        "id": "moGEgpV999cl"
      },
      "outputs": [],
      "source": [
        "import torch\n",
        "import torch.utils.data as data_utils\n",
        "from torch import nn\n",
        "import matplotlib.pyplot as plt\n",
        "import numpy as np"
      ]
    },
    {
      "cell_type": "code",
      "source": [
        "dataset = data_utils.TensorDataset(torch.from_numpy(X_train), torch.from_numpy(y_train))\n",
        "train_loader = data_utils.DataLoader(dataset, batch_size=32, shuffle=True)\n",
        "dataset = data_utils.TensorDataset(torch.from_numpy(X_test), torch.from_numpy(y_test))\n",
        "test_loader = data_utils.DataLoader(dataset, batch_size=32)"
      ],
      "metadata": {
        "id": "ewbW5AZHjhpW"
      },
      "execution_count": 71,
      "outputs": []
    },
    {
      "cell_type": "code",
      "execution_count": 72,
      "metadata": {
        "id": "F2uCb23Ieqrq"
      },
      "outputs": [],
      "source": [
        "class AutoEncoder(nn.Module):\n",
        "    def __init__(self):\n",
        "        super(AutoEncoder, self).__init__()\n",
        "        self.encoder = nn.Sequential(nn.Linear(20, 10), nn.ReLU(), nn.Linear(10,5), nn.ReLU())\n",
        "        self.decoder = nn.Sequential(nn.Linear(5,10), nn.ReLU(), nn.Linear(10,20))\n",
        "        \n",
        "    def forward(self, x):\n",
        "        x = self.encoder(x)\n",
        "        x = self.decoder(x)\n",
        "        return x"
      ]
    },
    {
      "cell_type": "code",
      "execution_count": 73,
      "metadata": {
        "colab": {
          "base_uri": "https://localhost:8080/"
        },
        "id": "0FVIHK86eqrr",
        "outputId": "0d3056f9-9da8-4084-a56d-c3419f780236"
      },
      "outputs": [
        {
          "output_type": "stream",
          "name": "stdout",
          "text": [
            "TRAIN - epoch: 1, loss: 0.012955541081595289\n",
            "TRAIN - epoch: 2, loss: 0.007083028249291724\n",
            "TRAIN - epoch: 3, loss: 0.006119599890589808\n",
            "TRAIN - epoch: 4, loss: 0.00608167992652544\n",
            "TRAIN - epoch: 5, loss: 0.006060637073268585\n",
            "TRAIN - epoch: 6, loss: 0.006030385862705804\n",
            "TRAIN - epoch: 7, loss: 0.005794884416105996\n",
            "TRAIN - epoch: 8, loss: 0.005632351072029537\n",
            "TRAIN - epoch: 9, loss: 0.005536243507588126\n",
            "TRAIN - epoch: 10, loss: 0.005328060912672169\n",
            "TRAIN - epoch: 11, loss: 0.00511290397482297\n",
            "TRAIN - epoch: 12, loss: 0.005034551377080787\n",
            "TRAIN - epoch: 13, loss: 0.004992883510411553\n",
            "TRAIN - epoch: 14, loss: 0.004959926287374966\n",
            "TRAIN - epoch: 15, loss: 0.0049331211515580104\n",
            "TRAIN - epoch: 16, loss: 0.004907716309557204\n",
            "TRAIN - epoch: 17, loss: 0.004878388269619035\n",
            "TRAIN - epoch: 18, loss: 0.004853097868379467\n",
            "TRAIN - epoch: 19, loss: 0.004835044161413896\n",
            "TRAIN - epoch: 20, loss: 0.004809066692434296\n"
          ]
        }
      ],
      "source": [
        "model = AutoEncoder()\n",
        "criteria = nn.MSELoss()\n",
        "optimizer = torch.optim.Adam(model.parameters(), lr = 0.001)\n",
        "loss_plot = []\n",
        "num_epochs = 20\n",
        "for epoch in range(num_epochs):\n",
        "    total_loss = 0\n",
        "    for inputs, labels in train_loader:\n",
        "        inputs = inputs.to(torch.float32)\n",
        "        optimizer.zero_grad()\n",
        "        model_outputs = model(inputs)\n",
        "        loss = criteria(model_outputs, inputs)\n",
        "        loss.backward()\n",
        "        optimizer.step()\n",
        "        total_loss += loss.item()\n",
        "    loss_plot.append(total_loss / len(X_train))\n",
        "    print(f'TRAIN - epoch: {epoch+1}, loss: {loss_plot[-1]}')"
      ]
    },
    {
      "cell_type": "code",
      "source": [
        "plt.plot(loss_plot)\n",
        "plt.show()"
      ],
      "metadata": {
        "colab": {
          "base_uri": "https://localhost:8080/",
          "height": 265
        },
        "id": "d4DIwpigqhE8",
        "outputId": "f2b5dc63-7115-4141-d045-c19884885ac8"
      },
      "execution_count": 74,
      "outputs": [
        {
          "output_type": "display_data",
          "data": {
            "text/plain": [
              "<Figure size 432x288 with 1 Axes>"
            ],
            "image/png": "[encoded data removed]"
          },
          "metadata": {
            "needs_background": "light"
          }
        }
      ]
    },
    {
      "cell_type": "code",
      "execution_count": 75,
      "metadata": {
        "colab": {
          "base_uri": "https://localhost:8080/",
          "height": 282
        },
        "id": "3pu-WhBOeqrr",
        "outputId": "36d00dc2-3410-4c4c-a9bc-148a2b7f33c7"
      },
      "outputs": [
        {
          "output_type": "execute_result",
          "data": {
            "text/plain": [
              "<matplotlib.collections.PathCollection at 0x7f041426b8e0>"
            ]
          },
          "metadata": {},
          "execution_count": 75
        },
        {
          "output_type": "display_data",
          "data": {
            "text/plain": [
              "<Figure size 432x288 with 1 Axes>"
            ],
            "image/png": "[encoded data removed]"
          },
          "metadata": {
            "needs_background": "light"
          }
        }
      ],
      "source": [
        "real_labels = []\n",
        "predicted_labels = []\n",
        "for input, label in test_loader:\n",
        "    real_labels.append(label.detach().numpy())\n",
        "    input = input.to(torch.float32)\n",
        "    latency = model.encoder(input)\n",
        "    predicted_labels.append(latency.detach().numpy())\n",
        "plt.scatter(np.concatenate(predicted_labels)[:,0], np.concatenate(predicted_labels)[:,1], c=np.concatenate(real_labels))"
      ]
    }
  ],
  "metadata": {
    "colab": {
      "provenance": []
    },
    "kernelspec": {
      "display_name": "Python 3 (ipykernel)",
      "language": "python",
      "name": "python3"
    },
    "language_info": {
      "codemirror_mode": {
        "name": "ipython",
        "version": 3
      },
      "file_extension": ".py",
      "mimetype": "text/x-python",
      "name": "python",
      "nbconvert_exporter": "python",
      "pygments_lexer": "ipython3",
      "version": "3.9.7"
    },
    "vscode": {
      "interpreter": {
        "hash": "81794d4967e6c3204c66dcd87b604927b115b27c00565d3d43f05ba2f3a2cb0d"
      }
    }
  },
  "nbformat": 4,
  "nbformat_minor": 0
}