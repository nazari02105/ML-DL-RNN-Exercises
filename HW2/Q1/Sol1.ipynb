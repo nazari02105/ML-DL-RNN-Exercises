{
  "cells": [
    {
      "cell_type": "markdown",
      "id": "52d3a943",
      "metadata": {
        "id": "52d3a943"
      },
      "source": [
        "<img src='http://www-scf.usc.edu/~ghasemig/images/sharif.png' alt=\"SUT logo\" width=200 height=200 align=left class=\"saturate\" >\n",
        "\n",
        "<br>\n",
        "<font face=\"Times New Roman\">\n",
        "<div dir=ltr align=center>\n",
        "<font color=0F5298 size=7>\n",
        "    Introduction to Machine Learning <br>\n",
        "<font color=2565AE size=5>\n",
        "    Computer Engineering Department <br>\n",
        "    Fall 2022<br>\n",
        "<font color=3C99D size=5>\n",
        "    Homework 3: Practical - ML Models for Tabular Datasets <br>\n",
        "<font color=696880 size=4>\n",
        "    Niloufar Razani \n",
        "    \n",
        "    \n",
        "____"
      ]
    },
    {
      "cell_type": "markdown",
      "id": "afcf1f24",
      "metadata": {
        "id": "afcf1f24"
      },
      "source": [
        "### Full Name : Ali Nazari\n",
        "### Student Number : 99102401\n",
        "___"
      ]
    },
    {
      "cell_type": "markdown",
      "id": "8c097381",
      "metadata": {
        "id": "8c097381"
      },
      "source": [
        "<font face=\"Times New Roman\" size=4><div dir=ltr>\n",
        "In this homework we are going to implement Adaboost algorithm from scratch. Please read this chapter's <a href=\"https://github.com/asharifiz/Introduction_to_Machine_Learning/tree/main/Jupyter_Notebooks/Chapter_04_Tabular_Data_Models\"><font face=\"Roboto\">notebook</font></a> and then complete the #TODO sections. <br>\n",
        "We will use the heart_disease.csv dataset, which you can see more details about in this <a href=\"https://www.kaggle.com/datasets/johnsmith88/heart-disease-dataset?resource=download&select=heart.csv\"><font face=\"Roboto\">Link</font></a>.\n",
        "___"
      ]
    },
    {
      "cell_type": "code",
      "execution_count": 29,
      "id": "1a687a71",
      "metadata": {
        "id": "1a687a71"
      },
      "outputs": [],
      "source": [
        "import numpy as np\n",
        "import pandas as pd\n",
        "import seaborn as sns\n",
        "import matplotlib.pyplot as plt\n",
        "from sklearn.model_selection import train_test_split\n",
        "from sklearn.tree import DecisionTreeClassifier\n",
        "from sklearn import metrics\n",
        "from sklearn.ensemble import AdaBoostClassifier"
      ]
    },
    {
      "cell_type": "markdown",
      "id": "3b152c1e",
      "metadata": {
        "id": "3b152c1e"
      },
      "source": [
        "### Data Prepration (10 points) \n",
        "1.   Load Dataset\n",
        "2.   Separate target feaure\n",
        "3.   Change class labels to 1 and -1\n",
        "4.   Do train-test split"
      ]
    },
    {
      "cell_type": "code",
      "execution_count": 30,
      "id": "159d3986",
      "metadata": {
        "id": "159d3986",
        "colab": {
          "base_uri": "https://localhost:8080/",
          "height": 206
        },
        "outputId": "79288326-335d-4c84-92e0-6821708e37c4"
      },
      "outputs": [
        {
          "output_type": "execute_result",
          "data": {
            "text/plain": [
              "   age  sex  cp  trestbps  chol  fbs  restecg  thalach  exang  oldpeak  slope  \\\n",
              "0   52    1   0       125   212    0        1      168      0      1.0      2   \n",
              "1   53    1   0       140   203    1        0      155      1      3.1      0   \n",
              "2   70    1   0       145   174    0        1      125      1      2.6      0   \n",
              "3   61    1   0       148   203    0        1      161      0      0.0      2   \n",
              "4   62    0   0       138   294    1        1      106      0      1.9      1   \n",
              "\n",
              "   ca  thal  target  \n",
              "0   2     3       0  \n",
              "1   0     3       0  \n",
              "2   0     3       0  \n",
              "3   1     3       0  \n",
              "4   3     2       0  "
            ],
            "text/html": [
              "\n",
              "  <div id=\"df-4d57a4de-2efa-424a-9a51-c5713bccc902\">\n",
              "    <div class=\"colab-df-container\">\n",
              "      <div>\n",
              "<style scoped>\n",
              "    .dataframe tbody tr th:only-of-type {\n",
              "        vertical-align: middle;\n",
              "    }\n",
              "\n",
              "    .dataframe tbody tr th {\n",
              "        vertical-align: top;\n",
              "    }\n",
              "\n",
              "    .dataframe thead th {\n",
              "        text-align: right;\n",
              "    }\n",
              "</style>\n",
              "<table border=\"1\" class=\"dataframe\">\n",
              "  <thead>\n",
              "    <tr style=\"text-align: right;\">\n",
              "      <th></th>\n",
              "      <th>age</th>\n",
              "      <th>sex</th>\n",
              "      <th>cp</th>\n",
              "      <th>trestbps</th>\n",
              "      <th>chol</th>\n",
              "      <th>fbs</th>\n",
              "      <th>restecg</th>\n",
              "      <th>thalach</th>\n",
              "      <th>exang</th>\n",
              "      <th>oldpeak</th>\n",
              "      <th>slope</th>\n",
              "      <th>ca</th>\n",
              "      <th>thal</th>\n",
              "      <th>target</th>\n",
              "    </tr>\n",
              "  </thead>\n",
              "  <tbody>\n",
              "    <tr>\n",
              "      <th>0</th>\n",
              "      <td>52</td>\n",
              "      <td>1</td>\n",
              "      <td>0</td>\n",
              "      <td>125</td>\n",
              "      <td>212</td>\n",
              "      <td>0</td>\n",
              "      <td>1</td>\n",
              "      <td>168</td>\n",
              "      <td>0</td>\n",
              "      <td>1.0</td>\n",
              "      <td>2</td>\n",
              "      <td>2</td>\n",
              "      <td>3</td>\n",
              "      <td>0</td>\n",
              "    </tr>\n",
              "    <tr>\n",
              "      <th>1</th>\n",
              "      <td>53</td>\n",
              "      <td>1</td>\n",
              "      <td>0</td>\n",
              "      <td>140</td>\n",
              "      <td>203</td>\n",
              "      <td>1</td>\n",
              "      <td>0</td>\n",
              "      <td>155</td>\n",
              "      <td>1</td>\n",
              "      <td>3.1</td>\n",
              "      <td>0</td>\n",
              "      <td>0</td>\n",
              "      <td>3</td>\n",
              "      <td>0</td>\n",
              "    </tr>\n",
              "    <tr>\n",
              "      <th>2</th>\n",
              "      <td>70</td>\n",
              "      <td>1</td>\n",
              "      <td>0</td>\n",
              "      <td>145</td>\n",
              "      <td>174</td>\n",
              "      <td>0</td>\n",
              "      <td>1</td>\n",
              "      <td>125</td>\n",
              "      <td>1</td>\n",
              "      <td>2.6</td>\n",
              "      <td>0</td>\n",
              "      <td>0</td>\n",
              "      <td>3</td>\n",
              "      <td>0</td>\n",
              "    </tr>\n",
              "    <tr>\n",
              "      <th>3</th>\n",
              "      <td>61</td>\n",
              "      <td>1</td>\n",
              "      <td>0</td>\n",
              "      <td>148</td>\n",
              "      <td>203</td>\n",
              "      <td>0</td>\n",
              "      <td>1</td>\n",
              "      <td>161</td>\n",
              "      <td>0</td>\n",
              "      <td>0.0</td>\n",
              "      <td>2</td>\n",
              "      <td>1</td>\n",
              "      <td>3</td>\n",
              "      <td>0</td>\n",
              "    </tr>\n",
              "    <tr>\n",
              "      <th>4</th>\n",
              "      <td>62</td>\n",
              "      <td>0</td>\n",
              "      <td>0</td>\n",
              "      <td>138</td>\n",
              "      <td>294</td>\n",
              "      <td>1</td>\n",
              "      <td>1</td>\n",
              "      <td>106</td>\n",
              "      <td>0</td>\n",
              "      <td>1.9</td>\n",
              "      <td>1</td>\n",
              "      <td>3</td>\n",
              "      <td>2</td>\n",
              "      <td>0</td>\n",
              "    </tr>\n",
              "  </tbody>\n",
              "</table>\n",
              "</div>\n",
              "      <button class=\"colab-df-convert\" onclick=\"convertToInteractive('df-4d57a4de-2efa-424a-9a51-c5713bccc902')\"\n",
              "              title=\"Convert this dataframe to an interactive table.\"\n",
              "              style=\"display:none;\">\n",
              "        \n",
              "  <svg xmlns=\"http://www.w3.org/2000/svg\" height=\"24px\"viewBox=\"0 0 24 24\"\n",
              "       width=\"24px\">\n",
              "    <path d=\"M0 0h24v24H0V0z\" fill=\"none\"/>\n",
              "    <path d=\"M18.56 5.44l.94 2.06.94-2.06 2.06-.94-2.06-.94-.94-2.06-.94 2.06-2.06.94zm-11 1L8.5 8.5l.94-2.06 2.06-.94-2.06-.94L8.5 2.5l-.94 2.06-2.06.94zm10 10l.94 2.06.94-2.06 2.06-.94-2.06-.94-.94-2.06-.94 2.06-2.06.94z\"/><path d=\"M17.41 7.96l-1.37-1.37c-.4-.4-.92-.59-1.43-.59-.52 0-1.04.2-1.43.59L10.3 9.45l-7.72 7.72c-.78.78-.78 2.05 0 2.83L4 21.41c.39.39.9.59 1.41.59.51 0 1.02-.2 1.41-.59l7.78-7.78 2.81-2.81c.8-.78.8-2.07 0-2.86zM5.41 20L4 18.59l7.72-7.72 1.47 1.35L5.41 20z\"/>\n",
              "  </svg>\n",
              "      </button>\n",
              "      \n",
              "  <style>\n",
              "    .colab-df-container {\n",
              "      display:flex;\n",
              "      flex-wrap:wrap;\n",
              "      gap: 12px;\n",
              "    }\n",
              "\n",
              "    .colab-df-convert {\n",
              "      background-color: #E8F0FE;\n",
              "      border: none;\n",
              "      border-radius: 50%;\n",
              "      cursor: pointer;\n",
              "      display: none;\n",
              "      fill: #1967D2;\n",
              "      height: 32px;\n",
              "      padding: 0 0 0 0;\n",
              "      width: 32px;\n",
              "    }\n",
              "\n",
              "    .colab-df-convert:hover {\n",
              "      background-color: #E2EBFA;\n",
              "      box-shadow: 0px 1px 2px rgba(60, 64, 67, 0.3), 0px 1px 3px 1px rgba(60, 64, 67, 0.15);\n",
              "      fill: #174EA6;\n",
              "    }\n",
              "\n",
              "    [theme=dark] .colab-df-convert {\n",
              "      background-color: #3B4455;\n",
              "      fill: #D2E3FC;\n",
              "    }\n",
              "\n",
              "    [theme=dark] .colab-df-convert:hover {\n",
              "      background-color: #434B5C;\n",
              "      box-shadow: 0px 1px 3px 1px rgba(0, 0, 0, 0.15);\n",
              "      filter: drop-shadow(0px 1px 2px rgba(0, 0, 0, 0.3));\n",
              "      fill: #FFFFFF;\n",
              "    }\n",
              "  </style>\n",
              "\n",
              "      <script>\n",
              "        const buttonEl =\n",
              "          document.querySelector('#df-4d57a4de-2efa-424a-9a51-c5713bccc902 button.colab-df-convert');\n",
              "        buttonEl.style.display =\n",
              "          google.colab.kernel.accessAllowed ? 'block' : 'none';\n",
              "\n",
              "        async function convertToInteractive(key) {\n",
              "          const element = document.querySelector('#df-4d57a4de-2efa-424a-9a51-c5713bccc902');\n",
              "          const dataTable =\n",
              "            await google.colab.kernel.invokeFunction('convertToInteractive',\n",
              "                                                     [key], {});\n",
              "          if (!dataTable) return;\n",
              "\n",
              "          const docLinkHtml = 'Like what you see? Visit the ' +\n",
              "            '<a target=\"_blank\" href=https://colab.research.google.com/notebooks/data_table.ipynb>data table notebook</a>'\n",
              "            + ' to learn more about interactive tables.';\n",
              "          element.innerHTML = '';\n",
              "          dataTable['output_type'] = 'display_data';\n",
              "          await google.colab.output.renderOutput(dataTable, element);\n",
              "          const docLink = document.createElement('div');\n",
              "          docLink.innerHTML = docLinkHtml;\n",
              "          element.appendChild(docLink);\n",
              "        }\n",
              "      </script>\n",
              "    </div>\n",
              "  </div>\n",
              "  "
            ]
          },
          "metadata": {},
          "execution_count": 30
        }
      ],
      "source": [
        "dataset = pd.read_csv('heart_disease.csv')\n",
        "dataset.head()"
      ]
    },
    {
      "cell_type": "code",
      "source": [
        "X = dataset[dataset.columns[:-1]]\n",
        "y = dataset[dataset.columns[-1]]"
      ],
      "metadata": {
        "id": "SypgEQEgToZs"
      },
      "id": "SypgEQEgToZs",
      "execution_count": 31,
      "outputs": []
    },
    {
      "cell_type": "code",
      "source": [
        "changed = list()\n",
        "for i in y:\n",
        "  changed.append(1) if i == 1 else changed.append(-1)\n",
        "y = pd.DataFrame(changed)\n",
        "y = y.squeeze()"
      ],
      "metadata": {
        "id": "DNfAmnQYUqCG"
      },
      "id": "DNfAmnQYUqCG",
      "execution_count": 32,
      "outputs": []
    },
    {
      "cell_type": "code",
      "source": [
        "x_train, x_test, y_train, y_test = train_test_split(X, y, test_size = 0.2, random_state = 0)"
      ],
      "metadata": {
        "id": "Xa00twBWiu7S"
      },
      "id": "Xa00twBWiu7S",
      "execution_count": 33,
      "outputs": []
    },
    {
      "cell_type": "markdown",
      "id": "695a1fc7",
      "metadata": {
        "id": "695a1fc7"
      },
      "source": [
        "### Adaboost Algorithm Implementation (40 points)"
      ]
    },
    {
      "cell_type": "code",
      "execution_count": 34,
      "id": "95f76156",
      "metadata": {
        "id": "95f76156"
      },
      "outputs": [],
      "source": [
        "def calculate_error(y, y_pred, w):\n",
        "  number_of_wrong = np.not_equal(y, y_pred).astype(int)\n",
        "  return sum(w * number_of_wrong)/sum(w)\n",
        "    \n",
        "\n",
        "def calculate_alpha(error):\n",
        "  expression = (1 - error) / error\n",
        "  return np.log(expression)\n",
        "    \n",
        "\n",
        "def update_weights(w, alpha, y, y_pred):\n",
        "  number_of_wrong = np.not_equal(y, y_pred).astype(int)\n",
        "  hyper_added = alpha * number_of_wrong\n",
        "  return w * np.exp(hyper_added)\n",
        "    \n",
        "\n",
        "    \n",
        "class AdaBoost:\n",
        "    \n",
        "    def __init__(self):\n",
        "        self.alphas = []\n",
        "        self.G_M = []\n",
        "        self.training_errors = []\n",
        "\n",
        "    def fit(self, X, y, M = 100):\n",
        "        \n",
        "        self.alphas = [] \n",
        "        self.training_errors = []\n",
        "        self.M = M\n",
        "\n",
        "        for m in range(0, M):\n",
        "            \n",
        "            if m == 0:\n",
        "                w_i = np.ones(len(y)) / len(y)\n",
        "                 \n",
        "            else:\n",
        "                w_i = update_weights(w_i, weak_alpha, y, y_pred)\n",
        "               \n",
        "            \n",
        "            weak_learner = DecisionTreeClassifier(max_depth = 1)\n",
        "            weak_learner.fit(X, y, sample_weight = w_i)\n",
        "            y_pred = weak_learner.predict(X)\n",
        "            self.G_M.append(weak_learner)\n",
        "\n",
        "\n",
        "            weak_error = calculate_error(y, y_pred, w_i)\n",
        "            self.training_errors.append(weak_error)\n",
        "\n",
        "\n",
        "            weak_alpha = calculate_alpha(weak_error)\n",
        "            self.alphas.append(weak_alpha)\n",
        "\n",
        "\n",
        "\n",
        "    def predict(self, X):\n",
        "\n",
        "        weak_preds = pd.DataFrame(index = range(len(X)), columns = range(self.M)) \n",
        "\n",
        "        for m in range(self.M):\n",
        "            y_pred_m = self.G_M[m].predict(X) * self.alphas[m]\n",
        "            weak_preds.iloc[:,m] = y_pred_m\n",
        "\n",
        "        y_pred = (1 * np.sign(weak_preds.T.sum())).astype(int)\n",
        "\n",
        "        return y_pred"
      ]
    },
    {
      "cell_type": "markdown",
      "id": "f27f8987",
      "metadata": {
        "id": "f27f8987"
      },
      "source": [
        "### Training and Evaluation (20 points)"
      ]
    },
    {
      "cell_type": "code",
      "execution_count": 35,
      "id": "2986c7a1",
      "metadata": {
        "id": "2986c7a1",
        "colab": {
          "base_uri": "https://localhost:8080/",
          "height": 366
        },
        "outputId": "e9c76140-0ca3-49d6-f342-08f524545274"
      },
      "outputs": [
        {
          "output_type": "display_data",
          "data": {
            "text/plain": [
              "<Figure size 432x288 with 2 Axes>"
            ],
            "image/png": "[encoded data removed]"
          },
          "metadata": {
            "needs_background": "light"
          }
        },
        {
          "output_type": "stream",
          "name": "stdout",
          "text": [
            "accuracy: 0.8926829268292683\n",
            "precision: 0.8761061946902655\n",
            "sensitivity: 0.9252336448598131\n",
            "specifity: 0.9252336448598131\n",
            "F1 score: 0.9\n"
          ]
        }
      ],
      "source": [
        "model = AdaBoost()\n",
        "model.fit(x_train, y_train)\n",
        "\n",
        "\n",
        "y_pred = np.array(model.predict(x_test))\n",
        "y_test = np.array(y_test)\n",
        "\n",
        "# I know the formula and how to calculate these metrics and they are easy\n",
        "# but this way, with sklearn library is cleaner :)\n",
        "confusion_matrix = metrics.confusion_matrix(y_test, y_pred)\n",
        "cm_display = metrics.ConfusionMatrixDisplay(confusion_matrix = confusion_matrix, display_labels = [False, True])\n",
        "cm_display.plot()\n",
        "plt.show()\n",
        "\n",
        "Accuracy = metrics.accuracy_score(y_test, y_pred)\n",
        "print(\"accuracy:\", Accuracy)\n",
        "Precision = metrics.precision_score(y_test, y_pred)\n",
        "print(\"precision:\", Precision)\n",
        "Sensitivity_recall = metrics.recall_score(y_test, y_pred)\n",
        "print(\"sensitivity:\", Sensitivity_recall)\n",
        "Specificity = metrics.recall_score(y_test, y_pred, pos_label=1)\n",
        "print(\"specifity:\", Specificity)\n",
        "F1_score = metrics.f1_score(y_test, y_pred)\n",
        "print(\"F1 score:\", F1_score)"
      ]
    },
    {
      "cell_type": "code",
      "execution_count": 36,
      "id": "39bb9216",
      "metadata": {
        "id": "39bb9216",
        "colab": {
          "base_uri": "https://localhost:8080/",
          "height": 366
        },
        "outputId": "57e8f5d6-e947-4184-fe50-2394dc77cedd"
      },
      "outputs": [
        {
          "output_type": "display_data",
          "data": {
            "text/plain": [
              "<Figure size 432x288 with 2 Axes>"
            ],
            "image/png": "[encoded data removed]"
          },
          "metadata": {
            "needs_background": "light"
          }
        },
        {
          "output_type": "stream",
          "name": "stdout",
          "text": [
            "accuracy: 0.8926829268292683\n",
            "precision: 0.8761061946902655\n",
            "sensitivity: 0.9252336448598131\n",
            "specifity: 0.9252336448598131\n",
            "F1 score: 0.9\n"
          ]
        }
      ],
      "source": [
        "# I used course notebooks code for this section\n",
        "classifier = AdaBoostClassifier(DecisionTreeClassifier(max_depth = 1), n_estimators=200, algorithm=\"SAMME\", learning_rate=0.5)\n",
        "classifier.fit(x_train, y_train)\n",
        "y_perd = np.array(classifier.predict(x_test))\n",
        "\n",
        "confusion_matrix = metrics.confusion_matrix(y_test, y_pred)\n",
        "cm_display = metrics.ConfusionMatrixDisplay(confusion_matrix = confusion_matrix, display_labels = [False, True])\n",
        "cm_display.plot()\n",
        "plt.show()\n",
        "\n",
        "Accuracy = metrics.accuracy_score(y_test, y_pred)\n",
        "print(\"accuracy:\", Accuracy)\n",
        "Precision = metrics.precision_score(y_test, y_pred)\n",
        "print(\"precision:\", Precision)\n",
        "Sensitivity_recall = metrics.recall_score(y_test, y_pred)\n",
        "print(\"sensitivity:\", Sensitivity_recall)\n",
        "Specificity = metrics.recall_score(y_test, y_pred, pos_label=1)\n",
        "print(\"specifity:\", Specificity)\n",
        "F1_score = metrics.f1_score(y_test, y_pred)\n",
        "print(\"F1 score:\", F1_score)"
      ]
    },
    {
      "cell_type": "markdown",
      "id": "e8fdcb6d",
      "metadata": {
        "id": "e8fdcb6d"
      },
      "source": [
        "### Early Stopping (15 points)"
      ]
    },
    {
      "cell_type": "code",
      "execution_count": 37,
      "id": "ac86c294",
      "metadata": {
        "id": "ac86c294"
      },
      "outputs": [],
      "source": [
        "x_train, x_val, y_train, y_val = train_test_split(x_train, y_train, test_size=0.2, random_state=0)\n",
        "y_val = np.array(y_val)\n",
        "error_list = []\n",
        "for estimators_number in range(200):\n",
        "    model = AdaBoost()\n",
        "    model.fit(x_train, y_train, M=estimators_number + 1)\n",
        "    error_list.append(1 - metrics.accuracy_score(y_val, model.predict(x_val)))"
      ]
    },
    {
      "cell_type": "code",
      "execution_count": 38,
      "id": "d6e06fea",
      "metadata": {
        "id": "d6e06fea",
        "colab": {
          "base_uri": "https://localhost:8080/",
          "height": 265
        },
        "outputId": "82768d5a-239c-4e36-f028-9c85ea139b9e"
      },
      "outputs": [
        {
          "output_type": "display_data",
          "data": {
            "text/plain": [
              "<Figure size 432x288 with 1 Axes>"
            ],
            "image/png": "[encoded data removed]"
          },
          "metadata": {
            "needs_background": "light"
          }
        }
      ],
      "source": [
        "plt.plot(np.arange(1, 201), np.array(error_list))\n",
        "plt.show()"
      ]
    },
    {
      "cell_type": "code",
      "execution_count": 39,
      "id": "cdfac096",
      "metadata": {
        "id": "cdfac096",
        "colab": {
          "base_uri": "https://localhost:8080/"
        },
        "outputId": "fa8ad432-36b5-451b-ca4f-62413cf36bca"
      },
      "outputs": [
        {
          "output_type": "stream",
          "name": "stdout",
          "text": [
            "best number of estimator(s): 95\n",
            "best value of accuracy: 0.9085365853658537\n",
            "best value of error: 0.09146341463414631\n"
          ]
        }
      ],
      "source": [
        "print(\"best number of estimator(s):\", np.argmin(error_list) + 1)\n",
        "print(\"best value of accuracy:\", 1 - error_list[np.argmin(error_list)])\n",
        "print(\"best value of error:\", error_list[np.argmin(error_list)])"
      ]
    },
    {
      "cell_type": "markdown",
      "id": "ec46a972",
      "metadata": {
        "id": "ec46a972"
      },
      "source": [
        "### Weighted Error (10 points)"
      ]
    },
    {
      "cell_type": "code",
      "execution_count": 40,
      "id": "7471664f",
      "metadata": {
        "id": "7471664f",
        "colab": {
          "base_uri": "https://localhost:8080/",
          "height": 265
        },
        "outputId": "b9d6548a-cfac-4ea5-d2c0-de4a4e047e26"
      },
      "outputs": [
        {
          "output_type": "display_data",
          "data": {
            "text/plain": [
              "<Figure size 432x288 with 1 Axes>"
            ],
            "image/png": "[encoded data removed]"
          },
          "metadata": {
            "needs_background": "light"
          }
        }
      ],
      "source": [
        "model = AdaBoost()\n",
        "model.fit(x_train, y_train, M = 200)\n",
        "plt.plot(np.arange(1, 201), np.array(model.training_errors))\n",
        "plt.show()"
      ]
    },
    {
      "cell_type": "markdown",
      "id": "22f513e8",
      "metadata": {
        "id": "22f513e8"
      },
      "source": [
        "### Question : Why does the weighted error tend to increase as the number of estimators increase? (5points)"
      ]
    },
    {
      "cell_type": "markdown",
      "source": [
        "در کل می دانیم که اینگونه کار می کند که در هر کلاس بندی کننده ضعیف، برخی درست پیشبینی می شوند که هیچی و برخی اشتباه پیشبینی می شوند. آنهایی که اشتباه پیشبینی می شوند، وزن آن ها افزایش پیدا می کند و در نتیجه لایه بعد اهمیت بیشتری به آن می دهد. ولی دقت کنیم که هر داده ای که در چند لایه اشتباه تشخیص داده می شود، یعنی داده سختی است و در نتیجه احتمال اشتباه ماندن آن زیاد است و در نتیجه مدام وزن آن زیاد می شود و در نتیجه مدام به میزان خطای وزن دار ما می افزاید. در نتیجه این مقدار خطا مدام زیاد می شود و باعث می شود که نتیجه مثل عکس و نمودار بالا شود و با افزایش تعداد استیمیتور ها، خطا هم بیشتر می شود."
      ],
      "metadata": {
        "id": "GWDF0vkazhVI"
      },
      "id": "GWDF0vkazhVI"
    }
  ],
  "metadata": {
    "kernelspec": {
      "display_name": "Python 3 (ipykernel)",
      "language": "python",
      "name": "python3"
    },
    "language_info": {
      "codemirror_mode": {
        "name": "ipython",
        "version": 3
      },
      "file_extension": ".py",
      "mimetype": "text/x-python",
      "name": "python",
      "nbconvert_exporter": "python",
      "pygments_lexer": "ipython3",
      "version": "3.9.7"
    },
    "colab": {
      "provenance": []
    },
    "gpuClass": "standard"
  },
  "nbformat": 4,
  "nbformat_minor": 5
}